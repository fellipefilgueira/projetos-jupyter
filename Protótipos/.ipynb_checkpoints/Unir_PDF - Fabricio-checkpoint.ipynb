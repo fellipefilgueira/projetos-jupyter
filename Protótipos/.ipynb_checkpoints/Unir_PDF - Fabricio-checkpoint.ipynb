{
 "cells": [
  {
   "cell_type": "code",
   "execution_count": 2,
   "id": "7f66f603",
   "metadata": {
    "ExecuteTime": {
     "end_time": "2022-06-01T17:03:51.428445Z",
     "start_time": "2022-06-01T17:03:50.522419Z"
    }
   },
   "outputs": [],
   "source": [
    "from PyPDF2 import PdfFileMerger\n",
    "import pandas as pd\n",
    "import os"
   ]
  },
  {
   "cell_type": "code",
   "execution_count": 8,
   "id": "7669a014",
   "metadata": {
    "ExecuteTime": {
     "end_time": "2022-06-01T17:11:56.468073Z",
     "start_time": "2022-06-01T17:11:56.452489Z"
    }
   },
   "outputs": [
    {
     "data": {
      "text/plain": [
       "['4401139142', '4401149583']"
      ]
     },
     "metadata": {},
     "output_type": "display_data"
    }
   ],
   "source": [
    "cam = r'D:\\Users\\CSR342486\\IBERDROLA S.A\\Cosern_Perdas - Documentos\\TOI - Cálculo e Comunicação\\Comunicação\\Comunicação MAIO 2022/'\n",
    "#cam = r'C:\\Users\\ETR352598\\IBERDROLA S.A\\Cosern_Perdas - Documentos\\TOI - Cálculo e Comunicação\\Comunicação\\Comunicação Fra - Março'\n",
    "arq = [] \n",
    "number = []\n",
    "for (root, dirs, file) in os.walk(cam): \n",
    "    for f in file: \n",
    "        if '.pdf' in f:    \n",
    "            arq.append(f)\n",
    "for i in arq:\n",
    "    number.append(str(i).replace(' - c1.pdf',\"\").replace(' - c2.pdf',\"\").replace(' - c3.pdf',\"\").replace(' - fat.pdf',\"\"))\n",
    "\n",
    "n_dupl = dict.fromkeys(number).keys()\n",
    "notas = [item for item in n_dupl]\n",
    "display(notas)"
   ]
  },
  {
   "cell_type": "code",
   "execution_count": 41,
   "id": "d78e669f",
   "metadata": {
    "ExecuteTime": {
     "end_time": "2022-04-04T17:30:08.612149Z",
     "start_time": "2022-04-04T17:30:06.984272Z"
    }
   },
   "outputs": [],
   "source": [
    "#caminho = r'D:/Users/CSR342486/IBERDROLA S.A/Cosern_Perdas - Documentos/TOI - Cálculo e Comunicação/Comunicação Def - janeiro/'\n",
    "\n",
    "#comunicacao = pd.read_excel(caminho+\"IMPRESSÃO ROBÔ COSERN 01 a 31_01.xlsx\",dtype=str, sheet_name=\"Planilha1\")\n",
    "#notas = comunicacao[comunicacao['Check']=='ok']\n",
    "#notas = notas[notas['QMNUM'].notna()]\n",
    "#notas = notas['QMNUM'].to_list()\n",
    "#n_notas=[]\n",
    "#for n in notas:\n",
    "#    n_notas.append(str(n).rjust(12, '0'))\n",
    "#display(n_notas)"
   ]
  },
  {
   "cell_type": "code",
   "execution_count": 9,
   "id": "c056a4d5",
   "metadata": {
    "ExecuteTime": {
     "end_time": "2022-06-01T17:12:06.752534Z",
     "start_time": "2022-06-01T17:12:05.521356Z"
    },
    "code_folding": [],
    "scrolled": true
   },
   "outputs": [
    {
     "name": "stderr",
     "output_type": "stream",
     "text": [
      "PdfReadWarning: Superfluous whitespace found in object header b'1' b'0' [pdf.py:1665]\n",
      "PdfReadWarning: Superfluous whitespace found in object header b'2' b'0' [pdf.py:1665]\n",
      "PdfReadWarning: Superfluous whitespace found in object header b'3' b'0' [pdf.py:1665]\n",
      "PdfReadWarning: Superfluous whitespace found in object header b'6' b'0' [pdf.py:1665]\n",
      "PdfReadWarning: Superfluous whitespace found in object header b'7' b'0' [pdf.py:1665]\n",
      "PdfReadWarning: Superfluous whitespace found in object header b'8' b'0' [pdf.py:1665]\n",
      "PdfReadWarning: Superfluous whitespace found in object header b'9' b'0' [pdf.py:1665]\n",
      "PdfReadWarning: Superfluous whitespace found in object header b'10' b'0' [pdf.py:1665]\n",
      "PdfReadWarning: Superfluous whitespace found in object header b'11' b'0' [pdf.py:1665]\n",
      "PdfReadWarning: Superfluous whitespace found in object header b'12' b'0' [pdf.py:1665]\n",
      "PdfReadWarning: Superfluous whitespace found in object header b'13' b'0' [pdf.py:1665]\n",
      "PdfReadWarning: Superfluous whitespace found in object header b'14' b'0' [pdf.py:1665]\n",
      "PdfReadWarning: Superfluous whitespace found in object header b'15' b'0' [pdf.py:1665]\n",
      "PdfReadWarning: Superfluous whitespace found in object header b'16' b'0' [pdf.py:1665]\n",
      "PdfReadWarning: Superfluous whitespace found in object header b'17' b'0' [pdf.py:1665]\n",
      "PdfReadWarning: Superfluous whitespace found in object header b'18' b'0' [pdf.py:1665]\n",
      "PdfReadWarning: Superfluous whitespace found in object header b'19' b'0' [pdf.py:1665]\n",
      "PdfReadWarning: Superfluous whitespace found in object header b'20' b'0' [pdf.py:1665]\n",
      "PdfReadWarning: Superfluous whitespace found in object header b'5' b'0' [pdf.py:1665]\n",
      "PdfReadWarning: Superfluous whitespace found in object header b'4' b'0' [pdf.py:1665]\n"
     ]
    },
    {
     "ename": "PdfReadError",
     "evalue": "EOF marker not found",
     "output_type": "error",
     "traceback": [
      "\u001b[1;31m---------------------------------------------------------------------------\u001b[0m",
      "\u001b[1;31mPdfReadError\u001b[0m                              Traceback (most recent call last)",
      "Input \u001b[1;32mIn [9]\u001b[0m, in \u001b[0;36m<cell line: 5>\u001b[1;34m()\u001b[0m\n\u001b[0;32m     13\u001b[0m \u001b[38;5;28;01mtry\u001b[39;00m:\n\u001b[1;32m---> 14\u001b[0m     \u001b[43mmerger\u001b[49m\u001b[38;5;241;43m.\u001b[39;49m\u001b[43mappend\u001b[49m\u001b[43m(\u001b[49m\u001b[43mcaminho\u001b[49m\u001b[38;5;241;43m+\u001b[39;49m\u001b[43mpdfs\u001b[49m\u001b[43m[\u001b[49m\u001b[38;5;241;43m0\u001b[39;49m\u001b[43m]\u001b[49m\u001b[43m,\u001b[49m\u001b[43m \u001b[49m\u001b[43mpages\u001b[49m\u001b[38;5;241;43m=\u001b[39;49m\u001b[43m(\u001b[49m\u001b[38;5;241;43m2\u001b[39;49m\u001b[43m,\u001b[49m\u001b[38;5;241;43m3\u001b[39;49m\u001b[43m)\u001b[49m\u001b[43m)\u001b[49m\n\u001b[0;32m     15\u001b[0m \u001b[38;5;28;01mexcept\u001b[39;00m:\n",
      "File \u001b[1;32m~\\Anaconda3\\envs\\atena\\lib\\site-packages\\PyPDF2\\merger.py:203\u001b[0m, in \u001b[0;36mPdfFileMerger.append\u001b[1;34m(self, fileobj, bookmark, pages, import_bookmarks)\u001b[0m\n\u001b[0;32m    184\u001b[0m \u001b[38;5;124;03m\"\"\"\u001b[39;00m\n\u001b[0;32m    185\u001b[0m \u001b[38;5;124;03mIdentical to the :meth:`merge()<merge>` method, but assumes you want to concatenate\u001b[39;00m\n\u001b[0;32m    186\u001b[0m \u001b[38;5;124;03mall pages onto the end of the file instead of specifying a position.\u001b[39;00m\n\u001b[1;32m   (...)\u001b[0m\n\u001b[0;32m    200\u001b[0m \u001b[38;5;124;03m    from being imported by specifying this as ``False``.\u001b[39;00m\n\u001b[0;32m    201\u001b[0m \u001b[38;5;124;03m\"\"\"\u001b[39;00m\n\u001b[1;32m--> 203\u001b[0m \u001b[38;5;28;43mself\u001b[39;49m\u001b[38;5;241;43m.\u001b[39;49m\u001b[43mmerge\u001b[49m\u001b[43m(\u001b[49m\u001b[38;5;28;43mlen\u001b[39;49m\u001b[43m(\u001b[49m\u001b[38;5;28;43mself\u001b[39;49m\u001b[38;5;241;43m.\u001b[39;49m\u001b[43mpages\u001b[49m\u001b[43m)\u001b[49m\u001b[43m,\u001b[49m\u001b[43m \u001b[49m\u001b[43mfileobj\u001b[49m\u001b[43m,\u001b[49m\u001b[43m \u001b[49m\u001b[43mbookmark\u001b[49m\u001b[43m,\u001b[49m\u001b[43m \u001b[49m\u001b[43mpages\u001b[49m\u001b[43m,\u001b[49m\u001b[43m \u001b[49m\u001b[43mimport_bookmarks\u001b[49m\u001b[43m)\u001b[49m\n",
      "File \u001b[1;32m~\\Anaconda3\\envs\\atena\\lib\\site-packages\\PyPDF2\\merger.py:133\u001b[0m, in \u001b[0;36mPdfFileMerger.merge\u001b[1;34m(self, position, fileobj, bookmark, pages, import_bookmarks)\u001b[0m\n\u001b[0;32m    131\u001b[0m \u001b[38;5;66;03m# Create a new PdfFileReader instance using the stream\u001b[39;00m\n\u001b[0;32m    132\u001b[0m \u001b[38;5;66;03m# (either file or BytesIO or StringIO) created above\u001b[39;00m\n\u001b[1;32m--> 133\u001b[0m pdfr \u001b[38;5;241m=\u001b[39m \u001b[43mPdfFileReader\u001b[49m\u001b[43m(\u001b[49m\u001b[43mfileobj\u001b[49m\u001b[43m,\u001b[49m\u001b[43m \u001b[49m\u001b[43mstrict\u001b[49m\u001b[38;5;241;43m=\u001b[39;49m\u001b[38;5;28;43mself\u001b[39;49m\u001b[38;5;241;43m.\u001b[39;49m\u001b[43mstrict\u001b[49m\u001b[43m)\u001b[49m\n\u001b[0;32m    134\u001b[0m \u001b[38;5;28;01mif\u001b[39;00m decryption_key \u001b[38;5;129;01mis\u001b[39;00m \u001b[38;5;129;01mnot\u001b[39;00m \u001b[38;5;28;01mNone\u001b[39;00m:\n",
      "File \u001b[1;32m~\\Anaconda3\\envs\\atena\\lib\\site-packages\\PyPDF2\\pdf.py:1084\u001b[0m, in \u001b[0;36mPdfFileReader.__init__\u001b[1;34m(self, stream, strict, warndest, overwriteWarnings)\u001b[0m\n\u001b[0;32m   1083\u001b[0m     fileobj\u001b[38;5;241m.\u001b[39mclose()\n\u001b[1;32m-> 1084\u001b[0m \u001b[38;5;28;43mself\u001b[39;49m\u001b[38;5;241;43m.\u001b[39;49m\u001b[43mread\u001b[49m\u001b[43m(\u001b[49m\u001b[43mstream\u001b[49m\u001b[43m)\u001b[49m\n\u001b[0;32m   1085\u001b[0m \u001b[38;5;28mself\u001b[39m\u001b[38;5;241m.\u001b[39mstream \u001b[38;5;241m=\u001b[39m stream\n",
      "File \u001b[1;32m~\\Anaconda3\\envs\\atena\\lib\\site-packages\\PyPDF2\\pdf.py:1696\u001b[0m, in \u001b[0;36mPdfFileReader.read\u001b[1;34m(self, stream)\u001b[0m\n\u001b[0;32m   1695\u001b[0m \u001b[38;5;28;01mif\u001b[39;00m stream\u001b[38;5;241m.\u001b[39mtell() \u001b[38;5;241m<\u001b[39m last1K:\n\u001b[1;32m-> 1696\u001b[0m     \u001b[38;5;28;01mraise\u001b[39;00m utils\u001b[38;5;241m.\u001b[39mPdfReadError(\u001b[38;5;124m\"\u001b[39m\u001b[38;5;124mEOF marker not found\u001b[39m\u001b[38;5;124m\"\u001b[39m)\n\u001b[0;32m   1697\u001b[0m line \u001b[38;5;241m=\u001b[39m \u001b[38;5;28mself\u001b[39m\u001b[38;5;241m.\u001b[39mreadNextEndLine(stream)\n",
      "\u001b[1;31mPdfReadError\u001b[0m: EOF marker not found",
      "\nDuring handling of the above exception, another exception occurred:\n",
      "\u001b[1;31mPdfReadError\u001b[0m                              Traceback (most recent call last)",
      "Input \u001b[1;32mIn [9]\u001b[0m, in \u001b[0;36m<cell line: 5>\u001b[1;34m()\u001b[0m\n\u001b[0;32m     14\u001b[0m     merger\u001b[38;5;241m.\u001b[39mappend(caminho\u001b[38;5;241m+\u001b[39mpdfs[\u001b[38;5;241m0\u001b[39m], pages\u001b[38;5;241m=\u001b[39m(\u001b[38;5;241m2\u001b[39m,\u001b[38;5;241m3\u001b[39m))\n\u001b[0;32m     15\u001b[0m \u001b[38;5;28;01mexcept\u001b[39;00m:\n\u001b[1;32m---> 16\u001b[0m     \u001b[43mmerger\u001b[49m\u001b[38;5;241;43m.\u001b[39;49m\u001b[43mappend\u001b[49m\u001b[43m(\u001b[49m\u001b[43mcaminho\u001b[49m\u001b[38;5;241;43m+\u001b[39;49m\u001b[43mpdfs\u001b[49m\u001b[43m[\u001b[49m\u001b[38;5;241;43m0\u001b[39;49m\u001b[43m]\u001b[49m\u001b[43m)\u001b[49m\n\u001b[0;32m     18\u001b[0m merger\u001b[38;5;241m.\u001b[39mappend(caminho\u001b[38;5;241m+\u001b[39mpdfs[\u001b[38;5;241m1\u001b[39m])\n\u001b[0;32m     20\u001b[0m merger\u001b[38;5;241m.\u001b[39mappend(caminho\u001b[38;5;241m+\u001b[39mpdfs[\u001b[38;5;241m2\u001b[39m])\n",
      "File \u001b[1;32m~\\Anaconda3\\envs\\atena\\lib\\site-packages\\PyPDF2\\merger.py:203\u001b[0m, in \u001b[0;36mPdfFileMerger.append\u001b[1;34m(self, fileobj, bookmark, pages, import_bookmarks)\u001b[0m\n\u001b[0;32m    183\u001b[0m \u001b[38;5;28;01mdef\u001b[39;00m \u001b[38;5;21mappend\u001b[39m(\u001b[38;5;28mself\u001b[39m, fileobj, bookmark\u001b[38;5;241m=\u001b[39m\u001b[38;5;28;01mNone\u001b[39;00m, pages\u001b[38;5;241m=\u001b[39m\u001b[38;5;28;01mNone\u001b[39;00m, import_bookmarks\u001b[38;5;241m=\u001b[39m\u001b[38;5;28;01mTrue\u001b[39;00m):\n\u001b[0;32m    184\u001b[0m     \u001b[38;5;124;03m\"\"\"\u001b[39;00m\n\u001b[0;32m    185\u001b[0m \u001b[38;5;124;03m    Identical to the :meth:`merge()<merge>` method, but assumes you want to concatenate\u001b[39;00m\n\u001b[0;32m    186\u001b[0m \u001b[38;5;124;03m    all pages onto the end of the file instead of specifying a position.\u001b[39;00m\n\u001b[1;32m   (...)\u001b[0m\n\u001b[0;32m    200\u001b[0m \u001b[38;5;124;03m        from being imported by specifying this as ``False``.\u001b[39;00m\n\u001b[0;32m    201\u001b[0m \u001b[38;5;124;03m    \"\"\"\u001b[39;00m\n\u001b[1;32m--> 203\u001b[0m     \u001b[38;5;28;43mself\u001b[39;49m\u001b[38;5;241;43m.\u001b[39;49m\u001b[43mmerge\u001b[49m\u001b[43m(\u001b[49m\u001b[38;5;28;43mlen\u001b[39;49m\u001b[43m(\u001b[49m\u001b[38;5;28;43mself\u001b[39;49m\u001b[38;5;241;43m.\u001b[39;49m\u001b[43mpages\u001b[49m\u001b[43m)\u001b[49m\u001b[43m,\u001b[49m\u001b[43m \u001b[49m\u001b[43mfileobj\u001b[49m\u001b[43m,\u001b[49m\u001b[43m \u001b[49m\u001b[43mbookmark\u001b[49m\u001b[43m,\u001b[49m\u001b[43m \u001b[49m\u001b[43mpages\u001b[49m\u001b[43m,\u001b[49m\u001b[43m \u001b[49m\u001b[43mimport_bookmarks\u001b[49m\u001b[43m)\u001b[49m\n",
      "File \u001b[1;32m~\\Anaconda3\\envs\\atena\\lib\\site-packages\\PyPDF2\\merger.py:133\u001b[0m, in \u001b[0;36mPdfFileMerger.merge\u001b[1;34m(self, position, fileobj, bookmark, pages, import_bookmarks)\u001b[0m\n\u001b[0;32m    129\u001b[0m     my_file \u001b[38;5;241m=\u001b[39m \u001b[38;5;28;01mTrue\u001b[39;00m\n\u001b[0;32m    131\u001b[0m \u001b[38;5;66;03m# Create a new PdfFileReader instance using the stream\u001b[39;00m\n\u001b[0;32m    132\u001b[0m \u001b[38;5;66;03m# (either file or BytesIO or StringIO) created above\u001b[39;00m\n\u001b[1;32m--> 133\u001b[0m pdfr \u001b[38;5;241m=\u001b[39m \u001b[43mPdfFileReader\u001b[49m\u001b[43m(\u001b[49m\u001b[43mfileobj\u001b[49m\u001b[43m,\u001b[49m\u001b[43m \u001b[49m\u001b[43mstrict\u001b[49m\u001b[38;5;241;43m=\u001b[39;49m\u001b[38;5;28;43mself\u001b[39;49m\u001b[38;5;241;43m.\u001b[39;49m\u001b[43mstrict\u001b[49m\u001b[43m)\u001b[49m\n\u001b[0;32m    134\u001b[0m \u001b[38;5;28;01mif\u001b[39;00m decryption_key \u001b[38;5;129;01mis\u001b[39;00m \u001b[38;5;129;01mnot\u001b[39;00m \u001b[38;5;28;01mNone\u001b[39;00m:\n\u001b[0;32m    135\u001b[0m     pdfr\u001b[38;5;241m.\u001b[39m_decryption_key \u001b[38;5;241m=\u001b[39m decryption_key\n",
      "File \u001b[1;32m~\\Anaconda3\\envs\\atena\\lib\\site-packages\\PyPDF2\\pdf.py:1084\u001b[0m, in \u001b[0;36mPdfFileReader.__init__\u001b[1;34m(self, stream, strict, warndest, overwriteWarnings)\u001b[0m\n\u001b[0;32m   1082\u001b[0m     stream \u001b[38;5;241m=\u001b[39m BytesIO(b_(fileobj\u001b[38;5;241m.\u001b[39mread()))\n\u001b[0;32m   1083\u001b[0m     fileobj\u001b[38;5;241m.\u001b[39mclose()\n\u001b[1;32m-> 1084\u001b[0m \u001b[38;5;28;43mself\u001b[39;49m\u001b[38;5;241;43m.\u001b[39;49m\u001b[43mread\u001b[49m\u001b[43m(\u001b[49m\u001b[43mstream\u001b[49m\u001b[43m)\u001b[49m\n\u001b[0;32m   1085\u001b[0m \u001b[38;5;28mself\u001b[39m\u001b[38;5;241m.\u001b[39mstream \u001b[38;5;241m=\u001b[39m stream\n\u001b[0;32m   1087\u001b[0m \u001b[38;5;28mself\u001b[39m\u001b[38;5;241m.\u001b[39m_override_encryption \u001b[38;5;241m=\u001b[39m \u001b[38;5;28;01mFalse\u001b[39;00m\n",
      "File \u001b[1;32m~\\Anaconda3\\envs\\atena\\lib\\site-packages\\PyPDF2\\pdf.py:1696\u001b[0m, in \u001b[0;36mPdfFileReader.read\u001b[1;34m(self, stream)\u001b[0m\n\u001b[0;32m   1694\u001b[0m \u001b[38;5;28;01mwhile\u001b[39;00m line[:\u001b[38;5;241m5\u001b[39m] \u001b[38;5;241m!=\u001b[39m b_(\u001b[38;5;124m\"\u001b[39m\u001b[38;5;132;01m%%\u001b[39;00m\u001b[38;5;124mEOF\u001b[39m\u001b[38;5;124m\"\u001b[39m):\n\u001b[0;32m   1695\u001b[0m     \u001b[38;5;28;01mif\u001b[39;00m stream\u001b[38;5;241m.\u001b[39mtell() \u001b[38;5;241m<\u001b[39m last1K:\n\u001b[1;32m-> 1696\u001b[0m         \u001b[38;5;28;01mraise\u001b[39;00m utils\u001b[38;5;241m.\u001b[39mPdfReadError(\u001b[38;5;124m\"\u001b[39m\u001b[38;5;124mEOF marker not found\u001b[39m\u001b[38;5;124m\"\u001b[39m)\n\u001b[0;32m   1697\u001b[0m     line \u001b[38;5;241m=\u001b[39m \u001b[38;5;28mself\u001b[39m\u001b[38;5;241m.\u001b[39mreadNextEndLine(stream)\n\u001b[0;32m   1698\u001b[0m     \u001b[38;5;28;01mif\u001b[39;00m debug: \u001b[38;5;28mprint\u001b[39m(\u001b[38;5;124m\"\u001b[39m\u001b[38;5;124m  line:\u001b[39m\u001b[38;5;124m\"\u001b[39m,line)\n",
      "\u001b[1;31mPdfReadError\u001b[0m: EOF marker not found"
     ]
    }
   ],
   "source": [
    "caminho = r'D:/Users/CSR342486/IBERDROLA S.A/Cosern_Perdas - Documentos/TOI - Cálculo e Comunicação/Comunicação/Comunicação MAIO 2022/'\n",
    "camimho_arq = r'D:/Users/CSR342486/IBERDROLA S.A/Cosern_Perdas - Documentos/TOI - Cálculo e Comunicação/Comunicação/Comunicação MAIO 2022/'\n",
    "erros = []\n",
    "num =[]\n",
    "for k in notas: \n",
    "    pdfs = [str(k)+' - c1.pdf', str(k)+' - c2.pdf', str(k)+' - c3.pdf']\n",
    "    num.append(k)\n",
    "    try:\n",
    "    \n",
    "        novo_arq = camimho_arq+str(k)+'.pdf'\n",
    "\n",
    "        merger = PdfFileMerger()\n",
    "        try:\n",
    "            merger.append(caminho+pdfs[0], pages=(2,3))\n",
    "        except:\n",
    "            merger.append(caminho+pdfs[0])\n",
    "\n",
    "        merger.append(caminho+pdfs[1])\n",
    "\n",
    "        merger.append(caminho+pdfs[2])\n",
    "\n",
    "        merger.write(novo_arq)\n",
    "\n",
    "        merger.close()\n",
    "\n",
    "        os.rename(novo_arq, caminho+'Doc_Juntos/'+str(k)+'.pdf')\n",
    "\n",
    "        erros.append(\"ok\")\n",
    "        \n",
    "    except OSError:\n",
    "        erros.append(\"Erro\")\n",
    "        \n",
    "display(list(zip(num,erros)))\n",
    "#writer = pd.ExcelWriter(caminho+'Doc_Erros_Unir.xlsx')\n",
    "df = pd.DataFrame(list(zip(num,erros)), columns = ['Notas','Verificação'])\n",
    "df.to_csv(caminho+'Doc_Erros_Unir.csv')\n",
    "#writer.save()"
   ]
  },
  {
   "cell_type": "code",
   "execution_count": null,
   "id": "5cde7c0a",
   "metadata": {
    "ExecuteTime": {
     "end_time": "2022-04-01T18:41:33.243718Z",
     "start_time": "2022-04-01T18:41:33.243718Z"
    },
    "code_folding": []
   },
   "outputs": [],
   "source": [
    "#Renomear Arquivos\n",
    "caminho_arq = r'D:/Users/CSR342486/IBERDROLA S.A/Cosern_Perdas - Documentos/TOI - Cálculo e Comunicação/Comunicação Def - Abril/' \n",
    "\n",
    "for n in n_notas\n",
    "    pdf_ant = [str(n)+'.pdf', str(n)+'..pdf', str(n)+'...pdf']\n",
    "    pdf_novo = [str(n)+'(0).pdf', str(n)+'(1).pdf', str(n)+'(2).pdf']\n",
    "    os.rename(caminho_arq+pdf_ant[0],caminho_arq+pdf_novo[0])\n",
    "    os.rename(caminho_arq+pdf_ant[1],caminho_arq+pdf_novo[1])\n",
    "    os.rename(caminho_arq+pdf_ant[2],caminho_arq+pdf_novo[2])\n"
   ]
  }
 ],
 "metadata": {
  "hide_input": false,
  "kernelspec": {
   "display_name": "Python 3 (ipykernel)",
   "language": "python",
   "name": "python3"
  },
  "language_info": {
   "codemirror_mode": {
    "name": "ipython",
    "version": 3
   },
   "file_extension": ".py",
   "mimetype": "text/x-python",
   "name": "python",
   "nbconvert_exporter": "python",
   "pygments_lexer": "ipython3",
   "version": "3.9.7"
  },
  "toc": {
   "base_numbering": 1,
   "nav_menu": {},
   "number_sections": true,
   "sideBar": true,
   "skip_h1_title": false,
   "title_cell": "Table of Contents",
   "title_sidebar": "Contents",
   "toc_cell": false,
   "toc_position": {},
   "toc_section_display": true,
   "toc_window_display": false
  },
  "varInspector": {
   "cols": {
    "lenName": 16,
    "lenType": 16,
    "lenVar": 40
   },
   "kernels_config": {
    "python": {
     "delete_cmd_postfix": "",
     "delete_cmd_prefix": "del ",
     "library": "var_list.py",
     "varRefreshCmd": "print(var_dic_list())"
    },
    "r": {
     "delete_cmd_postfix": ") ",
     "delete_cmd_prefix": "rm(",
     "library": "var_list.r",
     "varRefreshCmd": "cat(var_dic_list()) "
    }
   },
   "types_to_exclude": [
    "module",
    "function",
    "builtin_function_or_method",
    "instance",
    "_Feature"
   ],
   "window_display": false
  }
 },
 "nbformat": 4,
 "nbformat_minor": 5
}
