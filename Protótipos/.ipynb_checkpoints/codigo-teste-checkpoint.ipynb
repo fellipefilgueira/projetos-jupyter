{
 "cells": [
  {
   "cell_type": "code",
   "execution_count": 3,
   "id": "fa30a515",
   "metadata": {},
   "outputs": [],
   "source": [
    "import pandas as pd "
   ]
  },
  {
   "cell_type": "code",
   "execution_count": 11,
   "id": "a82573f8",
   "metadata": {},
   "outputs": [],
   "source": [
    "# dataframe = pd.DataFrame()\n",
    "venda = {'data': ['15/02/2021', '16/02/2021'],\n",
    "         'valor': [500, 300],\n",
    "         'produto': ['feijao', 'arroz'],\n",
    "         'qtde': [50, 70],\n",
    "        }\n",
    "vendas_df = pd.DataFrame(venda) "
   ]
  },
  {
   "cell_type": "code",
   "execution_count": null,
   "id": "f2a44ab7",
   "metadata": {},
   "outputs": [],
   "source": [
    "idade = input('Qual a sua idade?')"
   ]
  },
  {
   "cell_type": "code",
   "execution_count": null,
   "id": "883d3491",
   "metadata": {},
   "outputs": [],
   "source": [
    "nome = input('noome:')"
   ]
  }
 ],
 "metadata": {
  "kernelspec": {
   "display_name": "Python 3 (ipykernel)",
   "language": "python",
   "name": "python3"
  },
  "language_info": {
   "codemirror_mode": {
    "name": "ipython",
    "version": 3
   },
   "file_extension": ".py",
   "mimetype": "text/x-python",
   "name": "python",
   "nbconvert_exporter": "python",
   "pygments_lexer": "ipython3",
   "version": "3.9.7"
  }
 },
 "nbformat": 4,
 "nbformat_minor": 5
}
