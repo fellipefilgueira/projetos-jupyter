{
 "cells": [
  {
   "cell_type": "code",
   "execution_count": 2,
   "id": "b0cab9f4",
   "metadata": {},
   "outputs": [
    {
     "name": "stdout",
     "output_type": "stream",
     "text": [
      "Fellipe\n"
     ]
    }
   ],
   "source": [
    "print('Fellipe')"
   ]
  },
  {
   "cell_type": "code",
   "execution_count": 4,
   "id": "bd00fc6b",
   "metadata": {},
   "outputs": [
    {
     "name": "stdout",
     "output_type": "stream",
     "text": [
      "Qual o seu nome?Fellipe\n"
     ]
    }
   ],
   "source": [
    "nome = input('Qual o seu nome?')"
   ]
  },
  {
   "cell_type": "code",
   "execution_count": 7,
   "id": "9939f600",
   "metadata": {},
   "outputs": [
    {
     "name": "stdout",
     "output_type": "stream",
     "text": [
      "Olá Fellipe\n"
     ]
    }
   ],
   "source": [
    "print('Olá', nome)"
   ]
  },
  {
   "cell_type": "code",
   "execution_count": null,
   "id": "77d35a20",
   "metadata": {},
   "outputs": [],
   "source": [
    "from random import randint\n",
    "\n",
    "print('Bem vindo')\n",
    "\n",
    "sorteado = randint(1,100) # Sorteia um número entre 1 e 100\n",
    "\n",
    "chute = 0 \n",
    "\n",
    "while chute != sorteado:\n",
    "    c = input('Chute um número: ')\n",
    "    chute = int(c)\n",
    "\n",
    "    if chute == sorteado: \n",
    "        print('Você venceu!')\n",
    "    else: \n",
    "        if chute > sorteado:\n",
    "            print('Chutou alto!')\n",
    "        else: \n",
    "            print('Chutou baixo.')\n",
    "        \n",
    "print('Fim do jogo')"
   ]
  }
 ],
 "metadata": {
  "kernelspec": {
   "display_name": "Python 3 (ipykernel)",
   "language": "python",
   "name": "python3"
  },
  "language_info": {
   "codemirror_mode": {
    "name": "ipython",
    "version": 3
   },
   "file_extension": ".py",
   "mimetype": "text/x-python",
   "name": "python",
   "nbconvert_exporter": "python",
   "pygments_lexer": "ipython3",
   "version": "3.9.7"
  }
 },
 "nbformat": 4,
 "nbformat_minor": 5
}
