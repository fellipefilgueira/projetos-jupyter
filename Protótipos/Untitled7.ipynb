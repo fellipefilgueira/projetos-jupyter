{
 "cells": [
  {
   "cell_type": "code",
   "execution_count": 14,
   "id": "d556fb90",
   "metadata": {},
   "outputs": [],
   "source": [
    "# listar os processos que estão rodando no sistema operacional \n",
    "\n",
    "import psutil as ps\n",
    "import pandas as pd\n",
    "\n",
    "processos = [proc.name() for proc in ps.process_iter()]"
   ]
  },
  {
   "cell_type": "code",
   "execution_count": 38,
   "id": "78010f4c",
   "metadata": {},
   "outputs": [
    {
     "name": "stdout",
     "output_type": "stream",
     "text": [
      "ok\n"
     ]
    }
   ],
   "source": [
    "import pyautogui\n",
    "import time\n",
    "\n",
    "# start = time.time()\n",
    "\n",
    "# while start < time.time() + 0.1:\n",
    "#     time.sleep(1)\n",
    "#     print(time.time())\n",
    "    \n",
    "# x, y = pyautogui.position()\n",
    "# print(f'{x},{y}')\n",
    "\n",
    "# r,g,b = pyautogui.pixel(1810,49)\n",
    "count = 0\n",
    "while pyautogui.pixel(1810,49) == (226, 226, 226):\n",
    "    count += 1\n",
    "    print('ok')\n",
    "    time.sleep(1)\n",
    "    if count > 3:\n",
    "        print('finalizou')\n",
    "        break\n",
    "    else:\n",
    "        time.sleep(1)"
   ]
  },
  {
   "cell_type": "code",
   "execution_count": 37,
   "id": "5203686b",
   "metadata": {},
   "outputs": [
    {
     "name": "stdout",
     "output_type": "stream",
     "text": [
      "'abc',\n",
      "'bola',\n",
      "'rede',\n",
      "'gol',\n"
     ]
    },
    {
     "data": {
      "text/plain": [
       "[None, None, None, None]"
      ]
     },
     "execution_count": 37,
     "metadata": {},
     "output_type": "execute_result"
    }
   ],
   "source": [
    "x = ['abc', 'bola', 'rede', 'gol']\n",
    "\n",
    "item = map( \"'{}',\".format , x )\n",
    "\n",
    "list(map( print, item ))\n",
    "# help(map)"
   ]
  },
  {
   "cell_type": "code",
   "execution_count": 17,
   "id": "50760e77",
   "metadata": {},
   "outputs": [],
   "source": [
    "import keyboard\n",
    "import time\n",
    "\n",
    "keyboard.send('ctrl+p')\n",
    "# time.sleep(3)\n",
    "# keyboard.release('p')"
   ]
  },
  {
   "cell_type": "code",
   "execution_count": 5,
   "id": "7819c699",
   "metadata": {},
   "outputs": [
    {
     "name": "stdout",
     "output_type": "stream",
     "text": [
      "C:\\Users\\Fellipe\\Downloads\\pdffilemerger/[Energia]Abr22.pdf\n"
     ]
    }
   ],
   "source": [
    "import os\n",
    "from PyPDF2 import PdfFileMerger\n",
    "\n",
    "save_path = r\"C:\\Users\\Fellipe\\Downloads\\pdffilemerger/\"\n",
    "count_pdf = 0\n",
    "pdfs = []\n",
    "\n",
    "merger = PdfFileMerger()\n",
    "\n",
    "path_pdfs = os.listdir( save_path )\n",
    "for pdf in path_pdfs: \n",
    "    print(save_path+pdf)\n",
    "    merger.append(save_path+pdf)\n",
    "    \n",
    "merger.write(f'{save_path}[Energia].pdf')\n",
    "merger.close()\n",
    "                       \n",
    "# for i in range (0,)"
   ]
  },
  {
   "cell_type": "code",
   "execution_count": 15,
   "id": "6cf9db6a",
   "metadata": {},
   "outputs": [
    {
     "name": "stdout",
     "output_type": "stream",
     "text": [
      "sending mail to fellipellucas@gmail.com on TESTE\n"
     ]
    }
   ],
   "source": [
    "def send_mail(recipient, subject, message):\n",
    "\n",
    "#     import smtplib\n",
    "#     from email.MIMEMultipart import MIMEMultipart\n",
    "#     from email.MIMEText import MIMEText\n",
    "    \n",
    "    from email.mime.multipart import MIMEMultipart\n",
    "    from email.mime.text import MIMEText\n",
    "\n",
    "    username = \"fellipellucas@hotmail.com\"\n",
    "    password = \"Pelcs.0704\"\n",
    "\n",
    "    msg = MIMEMultipart()\n",
    "    msg['From'] = username\n",
    "    msg['To'] = recipient\n",
    "    msg['Subject'] = subject\n",
    "    msg.attach(MIMEText(message))\n",
    "\n",
    "    try:\n",
    "        print('sending mail to ' + recipient + ' on ' + subject)\n",
    "\n",
    "        mailServer = smtplib.SMTP('smtp-mail.outlook.com', 587)\n",
    "        mailServer.ehlo()\n",
    "        mailServer.starttls()\n",
    "        mailServer.ehlo()\n",
    "        mailServer.login(username, password)\n",
    "        mailServer.sendmail(username, recipient, msg.as_string())\n",
    "        mailServer.close()\n",
    "\n",
    "    except error as e:\n",
    "        print(str(e))\n",
    "\n",
    "\n",
    "send_mail('fellipellucas@gmail.com', 'TESTE', 'May the force be with you.')"
   ]
  },
  {
   "cell_type": "code",
   "execution_count": 7,
   "id": "fcc016b9",
   "metadata": {},
   "outputs": [],
   "source": [
    "import smtplib\n",
    "from email.mime.multipart import MIMEMultipart\n",
    "from email.mime.image import MIMEImage\n",
    "\n",
    "attachment = 'Lumus-279 (3).jpg' \n",
    "\n",
    "port = 587\n",
    "server = \"smtp-mail.outlook.com\"\n",
    "sender = \"fellipellucas@hotmail.com\"\n",
    "recipient = \"fellipellucas@gmail.com\"\n",
    "password = \"Pelcs.0704\"\n",
    "\n",
    "msg = MIMEMultipart()\n",
    "msg[\"To\"] = recipient\n",
    "msg[\"From\"] = sender\n",
    "msg[\"Subject\"] = \"TESTE EMAIL\"\n",
    "\n",
    "message = 'testanto codigo'\n",
    "\n",
    "#msgText = MIMEText(<b>%s</b><br><img src=\"cid:bob.jpg\"><br>, 'html') % body\n",
    "\n",
    "fp = open(attachment, 'rb')\n",
    "img = MIMEImage(fp.read())\n",
    "fp.close()\n",
    "\n",
    "msg.attach(img)\n",
    "\n",
    "with smtplib.SMTP(server, port) as server:\n",
    "\n",
    "    server.starttls(context=SSLcontext)\n",
    "\n",
    "    server.login(sender, password)\n",
    "\n",
    "    server.sendmail(sender, recipient, text) \n",
    "\n",
    "#email_message = '%s\\n%s\\n%s' % (subject_header, body, img)\n",
    "# email_message = '%s\\n%s' % (subject_header, body)\n",
    "\n",
    "# emailRezi = smtplib.SMTP(server, port)\n",
    "# emailRezi.set_debuglevel(1)\n",
    "# emailRezi.login(sender, password)\n",
    "# emailRezi.sendmail(sender, recipient, message)\n",
    "# #emailRezi.sendmail(from_addr, to_addr, msg.as_string())\n",
    "# emailRezi.quit()\n"
   ]
  },
  {
   "cell_type": "code",
   "execution_count": 3,
   "id": "c52bafd3",
   "metadata": {},
   "outputs": [],
   "source": [
    "from email.mime.text import MIMEText\n",
    "from email.mime.multipart import MIMEMultipart\n",
    "import smtplib\n",
    "import ssl\n",
    "\n",
    "port = 587\n",
    "server = \"smtp-mail.outlook.com\"\n",
    "sender = \"fellipellucas@hotmail.com\"\n",
    "recipient = \"fellipellucas@gmail.com\"\n",
    "password = \"Pelcs.0704\"\n",
    "\n",
    "msg = MIMEMultipart()       \n",
    "\n",
    "message = \"\"\"Hi,\n",
    "This is a MIME text\n",
    "\"\"\"\n",
    "\n",
    "msg['From']= sender\n",
    "msg['To']= recipient\n",
    "msg['Subject']=\"TESTE EMAIL\"\n",
    "\n",
    "msg.attach(MIMEText(message, \"plain\"))\n",
    "text = msg.as_string()\n",
    "SSLcontext = ssl.create_default_context()\n",
    "\n",
    "# fp = open('Lumus-279 (3).jpg', 'rb') #Read image \n",
    "# msgImage = MIMEImage(fp.read())\n",
    "# fp.close()\n",
    "\n",
    "# msgImage.add_header('Content-ID', '<image1>')\n",
    "# msgRoot.attach(msgImage)\n",
    "\n",
    "# attachment = 'Lumus-279 (3).jpg'\n",
    "\n",
    "# with open(attachment, 'rb') as fp:\n",
    "#     img = MIMEImage(fp.read())\n",
    "# img.add_header('Content-ID', '<{}>'.format(attachment))\n",
    "# msg.attach(img)\n",
    "\n",
    "with smtplib.SMTP(server, port) as server:\n",
    "\n",
    "    server.starttls(context=SSLcontext)\n",
    "\n",
    "    server.login(sender, password)\n",
    "\n",
    "    server.sendmail(sender, recipient, text) "
   ]
  },
  {
   "cell_type": "code",
   "execution_count": 4,
   "id": "52012acd",
   "metadata": {},
   "outputs": [
    {
     "ename": "SyntaxError",
     "evalue": "leading zeros in decimal integer literals are not permitted; use an 0o prefix for octal integers (Temp/ipykernel_2068/2829914904.py, line 4)",
     "output_type": "error",
     "traceback": [
      "\u001b[1;36m  File \u001b[1;32m\"C:\\Users\\Fellipe\\AppData\\Local\\Temp/ipykernel_2068/2829914904.py\"\u001b[1;36m, line \u001b[1;32m4\u001b[0m\n\u001b[1;33m    data = 2022-08-11 00:00:00\u001b[0m\n\u001b[1;37m                 ^\u001b[0m\n\u001b[1;31mSyntaxError\u001b[0m\u001b[1;31m:\u001b[0m leading zeros in decimal integer literals are not permitted; use an 0o prefix for octal integers\n"
     ]
    }
   ],
   "source": [
    "import sys\n",
    "from datetime import datetime\n",
    "\n",
    "data = 2022-08-11 00:00:00\n",
    "\n",
    "\n",
    "print(datetime(data).day)\n",
    "        \n",
    "print('ok')\n",
    "sys.exit()\n",
    "    \n",
    "print('deu erro')"
   ]
  },
  {
   "cell_type": "code",
   "execution_count": 6,
   "id": "e134d9f6",
   "metadata": {},
   "outputs": [
    {
     "name": "stdout",
     "output_type": "stream",
     "text": [
      "C:\\Users\\Fellipe\\AppData\\Local\\Temp\\tmpnis0pc_k\n"
     ]
    }
   ],
   "source": [
    "from tempfile import TemporaryDirectory\n",
    "\n",
    "with TemporaryDirectory() as temp_dir: \n",
    "    print(temp_dir)"
   ]
  },
  {
   "cell_type": "code",
   "execution_count": 28,
   "id": "e925df3e",
   "metadata": {},
   "outputs": [
    {
     "name": "stdout",
     "output_type": "stream",
     "text": [
      "Wednesday\n"
     ]
    }
   ],
   "source": [
    "import datetime\n",
    "dt = '21/03/2012'\n",
    "day, month, year = (int(x) for x in dt.split('/'))    \n",
    "ans = datetime.date(year, month, day)\n",
    "print (ans.strftime(\"%A\"))"
   ]
  },
  {
   "cell_type": "code",
   "execution_count": 28,
   "id": "073aefdc",
   "metadata": {},
   "outputs": [
    {
     "name": "stdout",
     "output_type": "stream",
     "text": [
      "6\n",
      "12\n"
     ]
    }
   ],
   "source": [
    "from datetime import date\n",
    "from datetime import datetime\n",
    "\n",
    "print(date(2022,8,14).weekday())\n",
    "print(datetime.today().day)"
   ]
  },
  {
   "cell_type": "code",
   "execution_count": 5,
   "id": "ff3db7b7",
   "metadata": {},
   "outputs": [
    {
     "ename": "TypeError",
     "evalue": "argument of type 'int' is not iterable",
     "output_type": "error",
     "traceback": [
      "\u001b[1;31m---------------------------------------------------------------------------\u001b[0m",
      "\u001b[1;31mTypeError\u001b[0m                                 Traceback (most recent call last)",
      "\u001b[1;32m~\\AppData\\Local\\Temp/ipykernel_16776/961490172.py\u001b[0m in \u001b[0;36m<module>\u001b[1;34m\u001b[0m\n\u001b[0;32m      2\u001b[0m \u001b[1;32mfrom\u001b[0m \u001b[0mdatetime\u001b[0m \u001b[1;32mimport\u001b[0m \u001b[0mdatetime\u001b[0m\u001b[1;33m\u001b[0m\u001b[1;33m\u001b[0m\u001b[0m\n\u001b[0;32m      3\u001b[0m \u001b[1;33m\u001b[0m\u001b[0m\n\u001b[1;32m----> 4\u001b[1;33m \u001b[1;32mif\u001b[0m \u001b[0mdate\u001b[0m\u001b[1;33m(\u001b[0m\u001b[1;36m2022\u001b[0m\u001b[1;33m,\u001b[0m\u001b[1;36m8\u001b[0m\u001b[1;33m,\u001b[0m\u001b[1;36m15\u001b[0m\u001b[1;33m)\u001b[0m\u001b[1;33m.\u001b[0m\u001b[0mweekday\u001b[0m\u001b[1;33m(\u001b[0m\u001b[1;33m)\u001b[0m \u001b[1;32min\u001b[0m \u001b[1;33m(\u001b[0m\u001b[1;36m0\u001b[0m\u001b[1;33m)\u001b[0m\u001b[1;33m:\u001b[0m\u001b[1;33m\u001b[0m\u001b[1;33m\u001b[0m\u001b[0m\n\u001b[0m\u001b[0;32m      5\u001b[0m     \u001b[0mlast_day\u001b[0m \u001b[1;33m=\u001b[0m \u001b[0mdate\u001b[0m\u001b[1;33m(\u001b[0m\u001b[1;36m2022\u001b[0m\u001b[1;33m,\u001b[0m\u001b[1;36m8\u001b[0m\u001b[1;33m,\u001b[0m\u001b[1;36m15\u001b[0m\u001b[1;33m)\u001b[0m\u001b[1;33m.\u001b[0m\u001b[0mday\u001b[0m \u001b[1;33m-\u001b[0m \u001b[1;36m2\u001b[0m\u001b[1;33m\u001b[0m\u001b[1;33m\u001b[0m\u001b[0m\n\u001b[0;32m      6\u001b[0m \u001b[1;32melse\u001b[0m\u001b[1;33m:\u001b[0m\u001b[1;33m\u001b[0m\u001b[1;33m\u001b[0m\u001b[0m\n",
      "\u001b[1;31mTypeError\u001b[0m: argument of type 'int' is not iterable"
     ]
    }
   ],
   "source": [
    "from datetime import date\n",
    "from datetime import datetime\n",
    "\n",
    "if date(2022,8,15).weekday() in (0): \n",
    "    last_day = date(2022,8,15).day - 2 \n",
    "else:\n",
    "    last_day = date(2022,8,15).day - 1\n",
    "    \n",
    "print(last_day)"
   ]
  },
  {
   "cell_type": "code",
   "execution_count": 1,
   "id": "8df91fad",
   "metadata": {
    "scrolled": true
   },
   "outputs": [
    {
     "data": {
      "text/html": [
       "<div>\n",
       "<style scoped>\n",
       "    .dataframe tbody tr th:only-of-type {\n",
       "        vertical-align: middle;\n",
       "    }\n",
       "\n",
       "    .dataframe tbody tr th {\n",
       "        vertical-align: top;\n",
       "    }\n",
       "\n",
       "    .dataframe thead th {\n",
       "        text-align: right;\n",
       "    }\n",
       "</style>\n",
       "<table border=\"1\" class=\"dataframe\">\n",
       "  <thead>\n",
       "    <tr style=\"text-align: right;\">\n",
       "      <th></th>\n",
       "      <th>Planilha</th>\n",
       "      <th>Local para Salvar</th>\n",
       "      <th>Aba</th>\n",
       "      <th>Nome da imagem</th>\n",
       "      <th>Linha inicial</th>\n",
       "      <th>Coluna Inicial</th>\n",
       "      <th>Linha final</th>\n",
       "      <th>Coluna final</th>\n",
       "    </tr>\n",
       "  </thead>\n",
       "  <tbody>\n",
       "    <tr>\n",
       "      <th>0</th>\n",
       "      <td>C:\\Users\\Fellipe\\Downloads\\arquivo.xlsx</td>\n",
       "      <td>C:\\Users\\Fellipe\\Downloads</td>\n",
       "      <td>Plan1</td>\n",
       "      <td>teste_int</td>\n",
       "      <td>1</td>\n",
       "      <td>1</td>\n",
       "      <td>10</td>\n",
       "      <td>10</td>\n",
       "    </tr>\n",
       "    <tr>\n",
       "      <th>1</th>\n",
       "      <td>C:\\Users\\Fellipe\\Downloads\\arquivo.xlsx</td>\n",
       "      <td>C:\\Users\\Fellipe\\Downloads</td>\n",
       "      <td>Plan1</td>\n",
       "      <td>teste_int2</td>\n",
       "      <td>1</td>\n",
       "      <td>1</td>\n",
       "      <td>5</td>\n",
       "      <td>5</td>\n",
       "    </tr>\n",
       "    <tr>\n",
       "      <th>2</th>\n",
       "      <td>C:\\Users\\Fellipe\\Downloads\\arquivo.xlsx</td>\n",
       "      <td>C:\\Users\\Fellipe\\Downloads</td>\n",
       "      <td>Plan1</td>\n",
       "      <td>teste_int3</td>\n",
       "      <td>1</td>\n",
       "      <td>1</td>\n",
       "      <td>3</td>\n",
       "      <td>3</td>\n",
       "    </tr>\n",
       "  </tbody>\n",
       "</table>\n",
       "</div>"
      ],
      "text/plain": [
       "                                  Planilha           Local para Salvar    Aba  \\\n",
       "0  C:\\Users\\Fellipe\\Downloads\\arquivo.xlsx  C:\\Users\\Fellipe\\Downloads  Plan1   \n",
       "1  C:\\Users\\Fellipe\\Downloads\\arquivo.xlsx  C:\\Users\\Fellipe\\Downloads  Plan1   \n",
       "2  C:\\Users\\Fellipe\\Downloads\\arquivo.xlsx  C:\\Users\\Fellipe\\Downloads  Plan1   \n",
       "\n",
       "  Nome da imagem  Linha inicial  Coluna Inicial  Linha final  Coluna final  \n",
       "0      teste_int              1               1           10            10  \n",
       "1     teste_int2              1               1            5             5  \n",
       "2     teste_int3              1               1            3             3  "
      ]
     },
     "metadata": {},
     "output_type": "display_data"
    }
   ],
   "source": [
    "import pandas as pd\n",
    "\n",
    "arquivo = pd.read_excel(r\"C:\\Users\\Fellipe\\Downloads\\arquivo.xlsx\")\n",
    "\n",
    "display(arquivo)"
   ]
  },
  {
   "cell_type": "code",
   "execution_count": 18,
   "id": "b9178fe6",
   "metadata": {
    "scrolled": true
   },
   "outputs": [
    {
     "name": "stdout",
     "output_type": "stream",
     "text": [
      "['C:\\\\Users\\\\Fellipe\\\\Downloads\\\\arquivo.xlsx', 'C:\\\\Users\\\\Fellipe\\\\Downloads\\\\arquivo.xlsx', 'C:\\\\Users\\\\Fellipe\\\\Downloads\\\\arquivo.xlsx', 'teste']\n"
     ]
    }
   ],
   "source": [
    "col = list(arquivo['Planilha'])\n",
    "col.append('teste')\n",
    "print(col)"
   ]
  },
  {
   "cell_type": "code",
   "execution_count": 23,
   "id": "988393e5",
   "metadata": {},
   "outputs": [
    {
     "name": "stdout",
     "output_type": "stream",
     "text": [
      "erro\n"
     ]
    }
   ],
   "source": [
    "if 'teste_int' in arquivo['Nome da imagem']:\n",
    "    print('ok')\n",
    "else: \n",
    "    print('erro')"
   ]
  },
  {
   "cell_type": "code",
   "execution_count": 35,
   "id": "052622e3",
   "metadata": {},
   "outputs": [
    {
     "data": {
      "text/plain": [
       "[('cachorro', 'coca', 'GG'),\n",
       " ('pizza', 'guarana', 'duo'),\n",
       " ('parmegiana', 'suco', 'click pao')]"
      ]
     },
     "metadata": {},
     "output_type": "display_data"
    }
   ],
   "source": [
    "comida = ['cachorro', 'pizza', 'parmegiana']\n",
    "bebida = ['coca', 'guarana', 'suco']\n",
    "restaurante = ['GG', 'duo', 'click pao']\n",
    "\n",
    "refeicao = list( zip(comida,bebida,restaurante) )\n",
    "\n",
    "display( refeicao )"
   ]
  }
 ],
 "metadata": {
  "kernelspec": {
   "display_name": "Python 3 (ipykernel)",
   "language": "python",
   "name": "python3"
  },
  "language_info": {
   "codemirror_mode": {
    "name": "ipython",
    "version": 3
   },
   "file_extension": ".py",
   "mimetype": "text/x-python",
   "name": "python",
   "nbconvert_exporter": "python",
   "pygments_lexer": "ipython3",
   "version": "3.9.7"
  }
 },
 "nbformat": 4,
 "nbformat_minor": 5
}
