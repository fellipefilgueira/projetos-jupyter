{
 "cells": [
  {
   "cell_type": "code",
   "execution_count": 5,
   "id": "1382c0f4",
   "metadata": {},
   "outputs": [
    {
     "data": {
      "image/png": "[encoded data removed]",
      "text/plain": [
       "<Figure size 432x288 with 1 Axes>"
      ]
     },
     "metadata": {
      "needs_background": "light"
     },
     "output_type": "display_data"
    }
   ],
   "source": [
    "import matplotlib.pyplot as plt\n",
    "import numpy as np\n",
    "\n",
    "#Criação da figura e seu respectivo gráfico\n",
    "\n",
    "#Quantas colunas vão aparecer por mês\n",
    "qtd_colunas = 6\n",
    "\n",
    "#Os meses que estarão no eixo horizontal\n",
    "meses = np.array(['Jan', 'Fev', 'Mar', 'Abr'])\n",
    "\"\"\"\n",
    "    Array criado para controlar posição das barras e legenda, deve ser\n",
    "numérico para que seja possível fazer deslocamentos.\n",
    "\"\"\"\n",
    "posicao = np.array([1,2,3,4])\n",
    "\"\"\"\n",
    "    Lista que irá possuir os valores necessários para que a legenda fique\n",
    "sempre centralizada em relação ao posicionamento das barras.\n",
    "\"\"\"\n",
    "centraliza = []\n",
    "#Largura das barras que serão formadas\n",
    "larg = 0.15\n",
    "#Valores que serão usados para criação das barras\n",
    "consu_ponta = [18.7, 20, 21, 19.5]\n",
    "consu_fponta = [30.3, 28.1, 29, 31]\n",
    "consu_reser = [15, 17.0, 18.8, 16.6]\n",
    "consu_intermed = [7, 10.2, 14, 11]\n",
    "consu_qualquer = [7, 10.2, 14, 11]\n",
    "consu_qualquer2 = [10, 14.2, 14.5, 13]\n",
    "\"\"\"\n",
    "    Dependendendo da quantidade de barras, o posicionamento possui algumas\n",
    "peculiaridades a depender se a quantidade de barras é impar ou par.\n",
    "\"\"\"\n",
    "if (qtd_colunas%2 == 0):\n",
    "  aux = -(qtd_colunas - 1)/2\n",
    "  for ind in range(0,qtd_colunas):\n",
    "    centraliza.append(aux)\n",
    "    aux += 1\n",
    "else:\n",
    "  aux = -(qtd_colunas - 1)/2\n",
    "  for ind in range(0,qtd_colunas):\n",
    "    centraliza.append(aux)\n",
    "    aux += 1\n",
    "\n",
    "#Criação das barras e suas respectivas posições\n",
    "graf.bar(posicao + centraliza[0]*larg, consu_ponta, larg)\n",
    "graf.bar(posicao + centraliza[1]*larg, consu_fponta, larg)\n",
    "graf.bar(posicao + centraliza[2]*larg, consu_reser, larg)\n",
    "graf.bar(posicao + centraliza[3]*larg, consu_intermed, larg)\n",
    "graf.bar(posicao + centraliza[4]*larg, consu_qualquer, larg)\n",
    "graf.bar(posicao + centraliza[5]*larg, consu_qualquer2, larg)\n",
    "#Posicionamento da legenda centralizada\n",
    "plt.xticks(posicao, meses)\n",
    "plt.show()\n"
   ]
  }
 ],
 "metadata": {
  "kernelspec": {
   "display_name": "Python 3 (ipykernel)",
   "language": "python",
   "name": "python3"
  },
  "language_info": {
   "codemirror_mode": {
    "name": "ipython",
    "version": 3
   },
   "file_extension": ".py",
   "mimetype": "text/x-python",
   "name": "python",
   "nbconvert_exporter": "python",
   "pygments_lexer": "ipython3",
   "version": "3.9.7"
  }
 },
 "nbformat": 4,
 "nbformat_minor": 5
}
