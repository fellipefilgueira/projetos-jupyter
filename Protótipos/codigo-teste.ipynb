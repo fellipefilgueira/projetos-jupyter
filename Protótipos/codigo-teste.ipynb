{
 "cells": [
  {
   "cell_type": "code",
   "execution_count": 3,
   "id": "fa30a515",
   "metadata": {},
   "outputs": [],
   "source": [
    "import pandas as pd "
   ]
  },
  {
   "cell_type": "code",
   "execution_count": 11,
   "id": "a82573f8",
   "metadata": {},
   "outputs": [],
   "source": [
    "# dataframe = pd.DataFrame()\n",
    "venda = {'data': ['15/02/2021', '16/02/2021'],\n",
    "         'valor': [500, 300],\n",
    "         'produto': ['feijao', 'arroz'],\n",
    "         'qtde': [50, 70],\n",
    "        }\n",
    "vendas_df = pd.DataFrame(venda) "
   ]
  },
  {
   "cell_type": "code",
   "execution_count": null,
   "id": "f2a44ab7",
   "metadata": {},
   "outputs": [],
   "source": [
    "idade = input('Qual a sua idade?')"
   ]
  },
  {
   "cell_type": "code",
   "execution_count": null,
   "id": "883d3491",
   "metadata": {},
   "outputs": [],
   "source": [
    "nome = input('noome:')"
   ]
  },
  {
   "cell_type": "code",
   "execution_count": null,
   "id": "c038df16",
   "metadata": {},
   "outputs": [],
   "source": [
    "nome.find()"
   ]
  },
  {
   "cell_type": "code",
   "execution_count": 8,
   "id": "b5ae0c11",
   "metadata": {},
   "outputs": [
    {
     "name": "stdout",
     "output_type": "stream",
     "text": [
      "oi, voce, esta\n",
      "['oi, voce, esta']\n"
     ]
    },
    {
     "ename": "IndexError",
     "evalue": "list index out of range",
     "output_type": "error",
     "traceback": [
      "\u001b[1;31m---------------------------------------------------------------------------\u001b[0m",
      "\u001b[1;31mIndexError\u001b[0m                                Traceback (most recent call last)",
      "\u001b[1;32m~\\AppData\\Local\\Temp/ipykernel_6668/2310591719.py\u001b[0m in \u001b[0;36m<module>\u001b[1;34m\u001b[0m\n\u001b[0;32m      7\u001b[0m \u001b[1;33m\u001b[0m\u001b[0m\n\u001b[0;32m      8\u001b[0m \u001b[0mprint\u001b[0m\u001b[1;33m(\u001b[0m\u001b[0mlist_notas\u001b[0m\u001b[1;33m)\u001b[0m\u001b[1;33m\u001b[0m\u001b[1;33m\u001b[0m\u001b[0m\n\u001b[1;32m----> 9\u001b[1;33m \u001b[0mprint\u001b[0m\u001b[1;33m(\u001b[0m\u001b[0mlist_notas\u001b[0m\u001b[1;33m[\u001b[0m\u001b[1;36m1\u001b[0m\u001b[1;33m]\u001b[0m\u001b[1;33m)\u001b[0m\u001b[1;33m\u001b[0m\u001b[1;33m\u001b[0m\u001b[0m\n\u001b[0m",
      "\u001b[1;31mIndexError\u001b[0m: list index out of range"
     ]
    }
   ],
   "source": [
    "list_notas = []\n",
    "\n",
    "notas = input()\n",
    "\n",
    "for i in notas:\n",
    "    list_notas.append(i)\n",
    "    \n",
    "print(list_notas)\n",
    "print(list_notas[1])"
   ]
  },
  {
   "cell_type": "code",
   "execution_count": 1,
   "id": "b1057653",
   "metadata": {},
   "outputs": [
    {
     "name": "stdout",
     "output_type": "stream",
     "text": [
      "Inisira uma lista de elementos separados por espaço: a b c d e f g h\n",
      "['a', 'b', 'c', 'd', 'e', 'f', 'g', 'h']\n"
     ]
    }
   ],
   "source": [
    "notas = input(\"Insira uma lista de elementos separados por espaço: \")\n",
    "list_notas  = notas.split()\n",
    "print(list_notas)"
   ]
  }
 ],
 "metadata": {
  "kernelspec": {
   "display_name": "Python 3 (ipykernel)",
   "language": "python",
   "name": "python3"
  },
  "language_info": {
   "codemirror_mode": {
    "name": "ipython",
    "version": 3
   },
   "file_extension": ".py",
   "mimetype": "text/x-python",
   "name": "python",
   "nbconvert_exporter": "python",
   "pygments_lexer": "ipython3",
   "version": "3.9.7"
  }
 },
 "nbformat": 4,
 "nbformat_minor": 5
}
