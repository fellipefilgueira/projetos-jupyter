{
 "cells": [
  {
   "cell_type": "code",
   "execution_count": 9,
   "metadata": {},
   "outputs": [],
   "source": [
    "import pywinauto\n",
    "import pyautogui\n",
    "from pywinauto import Application, Desktop\n",
    "import keyboard\n",
    "from pywinauto.findwindows import ElementNotFoundError, ElementAmbiguousError\n",
    "from pywinauto.uia_defines import NoPatternInterfaceError\n",
    "import time\n",
    "import os\n",
    "from subprocess import Popen\n",
    "import configparser\n",
    "#import xlwings as xw\n",
    "#import shutil\n",
    "#import stopit                                                                                     \n",
    "from stopit import ThreadingTimeout as Timeout\n",
    "import openpyxl \n",
    "import pandas as pd\n",
    "import os\n",
    "from PyPDF2 import PdfFileMerger\n",
    "from datetime import datetime\n",
    "from tqdm import tqdm\n",
    "import shutil"
   ]
  },
  {
   "cell_type": "code",
   "execution_count": 13,
   "metadata": {},
   "outputs": [],
   "source": [
    "#diretorio = r'''F:\\Cartas\\Robo2'''\n",
    "planilha_rodando = r'D:/Users/CSR342486/Downloads/Sterickbots 2.0 - Robo 3/Planilhas Vipp/TOI Cartas - Julho 11_14.xlsx'\n",
    "\n",
    "def press_release(key):\n",
    "    keyboard.press(key)\n",
    "    keyboard.release(key)\n",
    "\n",
    "# Configurações do aplicativo (default)\n",
    "\n",
    "    # 'CSR957147' #'Maio#2022'\n",
    "    # 'CSR957145' #'Livi@2021'\n",
    "    # 'CSR351676' #'HW8U@1sc'\n",
    "    # 'CSR957146' #'#Junho22'\n",
    "\n",
    "user_crm =  'CSR957146'\n",
    "user_ccs =  'CSR957146'\n",
    "pw_crm =  '#Junho22'\n",
    "pw_ccs =  '#Junho22'\n",
    "pasta =  r'D:/Users/CSR342486/IBERDROLA S.A/Cosern_Perdas - Documentos/TOI - Cálculo e Comunicação/Sterickbots 2.0 - Robo 3/Planilhas Vipp'\n",
    "caminho_salvar = r'd:/Users/csr342486/Desktop/Comunicação/2022/07. Julho/FRA&DEF P2 - 1107_1407/'\n",
    "data_ini = '18.07.2022' \n",
    "data_fim = '22.07.2022' \n",
    "count = 2\n",
    "nome_relatorio = 'Relatório Impressoes Julho P2.xlsx'\n",
    "# Fim das configurações\n",
    "\n",
    "arquivo = pd.read_excel(planilha_rodando,  engine='openpyxl', converters={'ANLAGE': str, 'QMNUM': str, 'ZCGACCOUN': str})\n",
    "\n",
    "#inicialização+\n",
    "sap = Desktop(backend='uia').window(class_name=\"SAP_FRONTEND_SESSION\")\n",
    "ie = Desktop(backend=\"uia\").window(class_name=\"IEFrame\", visible_only=False, found_index=0)\n",
    "ie_win_seg = Desktop(backend='uia').window(class_name=\"IEFrame\", visible_only=False, found_index=0).window(class_name=\"#32770\") #Desktop(backend='uia').window(class_name=\"Alternate Modal Top Most\")\n",
    "pdfcreator = Desktop(backend='uia').window(title=\"PDFCreator\", visible_only=False)\n",
    "pdfcreatorprint = Desktop(backend='uia').window(title=\"Gerenciar Trabalhos de Impressão\", visible_only=False)\n",
    "pdf = Desktop(backend='uia').window(class_name=\"AcrobatSDIWindow\", visible_only=False)\n",
    "destino = Desktop(backend='uia').window(title=\"Selecionar destino\")\n",
    "docs = Desktop(backend=\"uia\").window(class_name=\"CabinetWClass\", visible_only=False, found_index=0)\n",
    "salvar = Desktop(backend='uia').window(class_name=\"\")\n",
    "interaction = ie.window(class_name=\"Frame Tab\").window(title=\"Interaction Center WebClient - Windows Internet Explorer\")\n",
    "sessao_encerrada = ie.window(class_name=\"#32770\", tittle=\"Interaction Center WebClient - Windows Internet Explorer\")"
   ]
  },
  {
   "cell_type": "code",
   "execution_count": 15,
   "metadata": {},
   "outputs": [
    {
     "name": "stdout",
     "output_type": "stream",
     "text": [
      "Abriu o SAP\n",
      "Login no SAP realizado\n",
      "Não apareceu mensagem de restaurar sessão\n",
      "Achou o campo de autenticação de usuário - Internet Explorer\n",
      "ZPerdas selecionado\n"
     ]
    },
    {
     "name": "stderr",
     "output_type": "stream",
     "text": [
      "0it [00:00, ?it/s]"
     ]
    },
    {
     "name": "stdout",
     "output_type": "stream",
     "text": [
      "0 007012826510 004401133519\n",
      "A comunicação da nota 004401133519 já existe\n"
     ]
    },
    {
     "name": "stderr",
     "output_type": "stream",
     "text": [
      "2it [00:02,  1.24s/it]"
     ]
    },
    {
     "name": "stdout",
     "output_type": "stream",
     "text": [
      "1 007012626899 004401133439\n",
      "A comunicação da nota 004401133439 já existe\n",
      "2 007011960736 004401135526\n",
      "A comunicação da nota 004401135526 já existe\n"
     ]
    },
    {
     "name": "stderr",
     "output_type": "stream",
     "text": [
      "4it [00:03,  1.97it/s]"
     ]
    },
    {
     "name": "stdout",
     "output_type": "stream",
     "text": [
      "3 000850799962 004401158193\n",
      "A comunicação da nota 004401158193 já existe\n"
     ]
    },
    {
     "name": "stderr",
     "output_type": "stream",
     "text": [
      "5it [00:03,  2.61it/s]"
     ]
    },
    {
     "name": "stdout",
     "output_type": "stream",
     "text": [
      "4 007013259130 004401077585\n",
      "A comunicação da nota 004401077585 já existe\n",
      "5 007017656800 004401143822\n",
      "A comunicação da nota 004401143822 já existe\n"
     ]
    },
    {
     "name": "stderr",
     "output_type": "stream",
     "text": [
      "6it [00:03,  3.42it/s]"
     ]
    },
    {
     "name": "stdout",
     "output_type": "stream",
     "text": [
      "6 007014045010 004401110004\n",
      "A comunicação da nota 004401110004 já existe\n",
      "7 007016721896 004401178661\n",
      "A comunicação da nota 004401178661 já existe\n"
     ]
    },
    {
     "name": "stderr",
     "output_type": "stream",
     "text": [
      "10it [00:03,  6.38it/s]"
     ]
    },
    {
     "name": "stdout",
     "output_type": "stream",
     "text": [
      "8 007002579396 004401161869\n",
      "A comunicação da nota 004401161869 já existe\n",
      "9 007003447442 004401180089\n",
      "A comunicação da nota 004401180089 já existe\n"
     ]
    },
    {
     "name": "stderr",
     "output_type": "stream",
     "text": [
      "11it [00:04,  6.84it/s]"
     ]
    },
    {
     "name": "stdout",
     "output_type": "stream",
     "text": [
      "10 007017511771 004401178622\n",
      "A comunicação da nota 004401178622 já existe\n",
      "11 000032726011 004401178664\n",
      "A comunicação da nota 004401178664 já existe\n"
     ]
    },
    {
     "name": "stderr",
     "output_type": "stream",
     "text": [
      "13it [00:04,  7.63it/s]"
     ]
    },
    {
     "name": "stdout",
     "output_type": "stream",
     "text": [
      "12 007018322280 004401163573\n",
      "A comunicação da nota 004401163573 já existe\n",
      "13 000855411431 004401180087\n",
      "A comunicação da nota 004401180087 já existe\n"
     ]
    },
    {
     "name": "stderr",
     "output_type": "stream",
     "text": [
      "15it [00:04,  8.60it/s]"
     ]
    },
    {
     "name": "stdout",
     "output_type": "stream",
     "text": [
      "14 000165721012 004401178608\n",
      "A comunicação da nota 004401178608 já existe\n",
      "15 007020384179 004401181581\n",
      "A comunicação da nota 004401181581 já existe\n"
     ]
    },
    {
     "name": "stderr",
     "output_type": "stream",
     "text": [
      "17it [00:04,  8.54it/s]"
     ]
    },
    {
     "name": "stdout",
     "output_type": "stream",
     "text": [
      "16 000242994019 004401174614\n",
      "A comunicação da nota 004401174614 já existe\n",
      "17 007000288475 004401169898\n",
      "A comunicação da nota 004401169898 já existe\n"
     ]
    },
    {
     "name": "stderr",
     "output_type": "stream",
     "text": [
      "18it [00:05,  5.46it/s]"
     ]
    },
    {
     "name": "stdout",
     "output_type": "stream",
     "text": [
      "18 007014815087 004401169977\n",
      "A comunicação da nota 004401169977 já existe\n",
      "19 007018870570 004401099801\n",
      "A comunicação da nota 004401099801 já existe\n"
     ]
    },
    {
     "name": "stderr",
     "output_type": "stream",
     "text": [
      "21it [00:05,  5.89it/s]"
     ]
    },
    {
     "name": "stdout",
     "output_type": "stream",
     "text": [
      "20 007011031638 004401175253\n",
      "A comunicação da nota 004401175253 já existe\n",
      "21 000850091986 004401147995\n",
      "A comunicação da nota 004401147995 já existe\n",
      "22"
     ]
    },
    {
     "name": "stderr",
     "output_type": "stream",
     "text": [
      "25it [00:05,  9.24it/s]"
     ]
    },
    {
     "name": "stdout",
     "output_type": "stream",
     "text": [
      " 007004452997 004401181363\n",
      "A comunicação da nota 004401181363 já existe\n",
      "23 007012657921 004401148029\n",
      "A comunicação da nota 004401148029 já existe\n",
      "24 000436056010 004401173773\n",
      "A comunicação da nota 004401173773 já existe\n",
      "25 007009794896 004401175348\n",
      "A comunicação da nota 004401175348 já existe\n"
     ]
    },
    {
     "name": "stderr",
     "output_type": "stream",
     "text": [
      "27it [00:05, 10.43it/s]"
     ]
    },
    {
     "name": "stdout",
     "output_type": "stream",
     "text": [
      "26 000134861010 004401140651\n",
      "A comunicação da nota 004401140651 já existe\n",
      "27 007006064870 004401155313\n",
      "A comunicação da nota 004401155313 já existe\n"
     ]
    },
    {
     "name": "stderr",
     "output_type": "stream",
     "text": [
      "29it [00:06, 10.29it/s]"
     ]
    },
    {
     "name": "stdout",
     "output_type": "stream",
     "text": [
      "28 007013860593 004401155883\n",
      "A comunicação da nota 004401155883 já existe\n",
      "29 007010330470 004401154507\n",
      "A comunicação da nota 004401154507 já existe\n",
      "30 007006716258 004401155736\n",
      "A comunicação da nota 004401155736 já existe\n"
     ]
    },
    {
     "name": "stderr",
     "output_type": "stream",
     "text": [
      "33it [00:06, 12.35it/s]"
     ]
    },
    {
     "name": "stdout",
     "output_type": "stream",
     "text": [
      "31 000856756785 004401139374\n",
      "A comunicação da nota 004401139374 já existe\n",
      "32 007013158775 004401163441\n",
      "A comunicação da nota 004401163441 já existe\n",
      "33 007011833491 004401183077\n",
      "A comunicação da nota 004401183077 já existe\n",
      "34"
     ]
    },
    {
     "name": "stderr",
     "output_type": "stream",
     "text": [
      "37it [00:06, 13.65it/s]"
     ]
    },
    {
     "name": "stdout",
     "output_type": "stream",
     "text": [
      " 007002867863 004401157568\n",
      "A comunicação da nota 004401157568 já existe\n",
      "35 007002903428 004401176310\n",
      "A comunicação da nota 004401176310 já existe\n",
      "36 007004282005 004401135038\n",
      "A comunicação da nota 004401135038 já existe\n"
     ]
    },
    {
     "name": "stderr",
     "output_type": "stream",
     "text": [
      "39it [00:06, 13.98it/s]"
     ]
    },
    {
     "name": "stdout",
     "output_type": "stream",
     "text": [
      "37 000568639014 004401181190\n",
      "A comunicação da nota 004401181190 já existe\n",
      "38 007019204531 004401157518\n",
      "A comunicação da nota 004401157518 já existe\n",
      "39 007015344517 004401178886\n",
      "A comunicação da nota 004401178886 já existe\n"
     ]
    },
    {
     "name": "stderr",
     "output_type": "stream",
     "text": [
      "41it [00:06, 13.89it/s]"
     ]
    },
    {
     "name": "stdout",
     "output_type": "stream",
     "text": [
      "40 007013816136 004401155221\n",
      "A comunicação da nota 004401155221 já existe\n",
      "41 007003053932 004401171797\n",
      "A comunicação da nota 004401171797 já existe\n",
      "42 007005016716 004401173993\n",
      "A comunicação da nota 004401173993 já existe\n"
     ]
    },
    {
     "name": "stderr",
     "output_type": "stream",
     "text": [
      "45it [00:07, 13.56it/s]"
     ]
    },
    {
     "name": "stdout",
     "output_type": "stream",
     "text": [
      "43 007015375900 004401173840\n",
      "A comunicação da nota 004401173840 já existe\n",
      "44 007005515356 004401176288\n",
      "A comunicação da nota 004401176288 já existe\n",
      "45 007014383578 004401173968\n",
      "A comunicação da nota 004401173968 já existe\n"
     ]
    },
    {
     "name": "stderr",
     "output_type": "stream",
     "text": [
      "47it [00:07, 14.03it/s]"
     ]
    },
    {
     "name": "stdout",
     "output_type": "stream",
     "text": [
      "46 007017151155 004401171318\n",
      "A comunicação da nota 004401171318 já existe\n",
      "47 007019036124 004401173945\n",
      "A comunicação da nota 004401173945 já existe\n",
      "48 007006785381 004401173956\n",
      "A comunicação da nota 004401173956 já existe\n"
     ]
    },
    {
     "name": "stderr",
     "output_type": "stream",
     "text": [
      "51it [00:07, 14.54it/s]"
     ]
    },
    {
     "name": "stdout",
     "output_type": "stream",
     "text": [
      "49 000856933555 004401177083\n",
      "A comunicação da nota 004401177083 já existe\n",
      "50 007001415055 004401148061\n",
      "A comunicação da nota 004401148061 já existe\n",
      "51 007019862768 004401177085\n",
      "A comunicação da nota 004401177085 já existe\n"
     ]
    },
    {
     "name": "stderr",
     "output_type": "stream",
     "text": [
      "53it [00:07, 14.65it/s]"
     ]
    },
    {
     "name": "stdout",
     "output_type": "stream",
     "text": [
      "52 007015596273 004401145462\n",
      "A comunicação da nota 004401145462 já existe\n",
      "53 007018955185 004401145461\n",
      "A comunicação da nota 004401145461 já existe\n",
      "54 007011004622 004401161216\n",
      "A comunicação da nota 004401161216 já existe\n"
     ]
    },
    {
     "name": "stderr",
     "output_type": "stream",
     "text": [
      "57it [00:08, 13.34it/s]"
     ]
    },
    {
     "name": "stdout",
     "output_type": "stream",
     "text": [
      "55 000579927011 004401178594\n",
      "A comunicação da nota 004401178594 já existe\n",
      "56 007013861050 004401180081\n",
      "A comunicação da nota 004401180081 já existe\n",
      "57 007018419976 004401153806\n"
     ]
    },
    {
     "name": "stderr",
     "output_type": "stream",
     "text": [
      "59it [00:08, 13.39it/s]"
     ]
    },
    {
     "name": "stdout",
     "output_type": "stream",
     "text": [
      "A comunicação da nota 004401153806 já existe\n",
      "58 000855444259 004401178618\n",
      "A comunicação da nota 004401178618 já existe\n",
      "59 007009891670 004401181576\n",
      "A comunicação da nota 004401181576 já existe\n"
     ]
    },
    {
     "name": "stderr",
     "output_type": "stream",
     "text": [
      "61it [00:08, 13.82it/s]"
     ]
    },
    {
     "name": "stdout",
     "output_type": "stream",
     "text": [
      "60 000853117560 004401166203\n",
      "A comunicação da nota 004401166203 já existe\n",
      "61 007012373354 004401178623\n",
      "A comunicação da nota 004401178623 já existe\n",
      "62 000856915727 004401181569\n",
      "A comunicação da nota 004401181569 já existe\n"
     ]
    },
    {
     "name": "stderr",
     "output_type": "stream",
     "text": [
      "65it [00:08, 14.07it/s]"
     ]
    },
    {
     "name": "stdout",
     "output_type": "stream",
     "text": [
      "63 007017294029 004401134345\n",
      "A comunicação da nota 004401134345 já existe\n",
      "64 007004230692 004401157765\n",
      "A comunicação da nota 004401157765 já existe\n",
      "65 007015704955 004401145490\n",
      "A comunicação da nota 004401145490 já existe\n"
     ]
    },
    {
     "name": "stderr",
     "output_type": "stream",
     "text": [
      "67it [00:08, 13.64it/s]"
     ]
    },
    {
     "name": "stdout",
     "output_type": "stream",
     "text": [
      "66 007017655358 004401119364\n",
      "A comunicação da nota 004401119364 já existe\n",
      "67 007016897749 004401145460\n",
      "A comunicação da nota 004401145460 já existe\n",
      "68 007002986404 004401171757\n",
      "A comunicação da nota 004401171757 já existe\n"
     ]
    },
    {
     "name": "stderr",
     "output_type": "stream",
     "text": [
      "71it [00:09, 14.23it/s]"
     ]
    },
    {
     "name": "stdout",
     "output_type": "stream",
     "text": [
      "69 007003148011 004401171861\n",
      "A comunicação da nota 004401171861 já existe\n",
      "70 007009100495 004401179074\n",
      "A comunicação da nota 004401179074 já existe\n",
      "71 007007943967 004401161190\n",
      "A comunicação da nota 004401161190 já existe\n",
      "72"
     ]
    },
    {
     "name": "stderr",
     "output_type": "stream",
     "text": [
      "73it [00:09, 14.72it/s]"
     ]
    },
    {
     "name": "stdout",
     "output_type": "stream",
     "text": [
      " 007018463720 004401138058\n",
      "A comunicação da nota 004401138058 já existe\n",
      "73 007016814185 004401156286\n",
      "A comunicação da nota 004401156286 já existe\n",
      "74 000708453013 004401128253\n",
      "A comunicação da nota 004401128253 já existe\n"
     ]
    },
    {
     "name": "stderr",
     "output_type": "stream",
     "text": [
      "77it [00:09, 15.05it/s]"
     ]
    },
    {
     "name": "stdout",
     "output_type": "stream",
     "text": [
      "75 007018380336 004401153789\n",
      "A comunicação da nota 004401153789 já existe\n",
      "76 000676747010 004401181194\n",
      "A comunicação da nota 004401181194 já existe\n",
      "77 007014372134 004401161553\n",
      "A comunicação da nota 004401161553 já existe\n"
     ]
    },
    {
     "name": "stderr",
     "output_type": "stream",
     "text": [
      "79it [00:09, 15.15it/s]"
     ]
    },
    {
     "name": "stdout",
     "output_type": "stream",
     "text": [
      "78 007009162261 004401156020\n",
      "A comunicação da nota 004401156020 já existe\n",
      "79 000853207268 004401173329\n",
      "A comunicação da nota 004401173329 já existe\n",
      "80 007011114223 004401129474\n",
      "A comunicação da nota 004401129474 já existe\n"
     ]
    },
    {
     "name": "stderr",
     "output_type": "stream",
     "text": [
      "83it [00:09, 15.31it/s]"
     ]
    },
    {
     "name": "stdout",
     "output_type": "stream",
     "text": [
      "81 007019710097 004401165010\n",
      "A comunicação da nota 004401165010 já existe\n",
      "82 007007436500 004401179073\n",
      "A comunicação da nota 004401179073 já existe\n",
      "83 007012969370 004401146577\n",
      "A comunicação da nota 004401146577 já existe\n",
      "84"
     ]
    },
    {
     "name": "stderr",
     "output_type": "stream",
     "text": [
      "85it [00:10, 14.99it/s]"
     ]
    },
    {
     "name": "stdout",
     "output_type": "stream",
     "text": [
      " 000856142787 004401180122\n",
      "A comunicação da nota 004401180122 já existe\n",
      "85 007007570060 004401126150\n",
      "A comunicação da nota 004401126150 já existe\n",
      "86 000115128019 004401130678\n",
      "A comunicação da nota 004401130678 já existe\n"
     ]
    },
    {
     "name": "stderr",
     "output_type": "stream",
     "text": [
      "89it [00:10, 15.26it/s]"
     ]
    },
    {
     "name": "stdout",
     "output_type": "stream",
     "text": [
      "87 000856609162 004401153283\n",
      "A comunicação da nota 004401153283 já existe\n",
      "88 007014571641 004401153153\n",
      "A comunicação da nota 004401153153 já existe\n",
      "89 007009657821 004401107025\n",
      "A comunicação da nota 004401107025 já existe\n"
     ]
    },
    {
     "name": "stderr",
     "output_type": "stream",
     "text": [
      "93it [00:10, 15.67it/s]"
     ]
    },
    {
     "name": "stdout",
     "output_type": "stream",
     "text": [
      "90 007019082738 004401181191\n",
      "A comunicação da nota 004401181191 já existe\n",
      "91 007014577399 004401156022\n",
      "A comunicação da nota 004401156022 já existe\n",
      "92 000854701797 004401179071\n",
      "A comunicação da nota 004401179071 já existe\n"
     ]
    },
    {
     "name": "stderr",
     "output_type": "stream",
     "text": [
      "95it [00:10, 15.66it/s]"
     ]
    },
    {
     "name": "stdout",
     "output_type": "stream",
     "text": [
      "93 000724015018 004401180123\n",
      "A comunicação da nota 004401180123 já existe\n",
      "94 000855068737 004401180099\n",
      "A comunicação da nota 004401180099 já existe\n",
      "95 007013968432 004401179730\n",
      "A comunicação da nota 004401179730 já existe\n"
     ]
    },
    {
     "name": "stderr",
     "output_type": "stream",
     "text": [
      "99it [00:10, 16.35it/s]"
     ]
    },
    {
     "name": "stdout",
     "output_type": "stream",
     "text": [
      "96 007006429143 004401166989\n",
      "A comunicação da nota 004401166989 já existe\n",
      "97 007002267394 004401179600\n",
      "A comunicação da nota 004401179600 já existe\n",
      "98 007000828020 004401171693\n",
      "A comunicação da nota 004401171693 já existe\n",
      "99 007005422862 004401166123\n",
      "A comunicação da nota 004401166123 já existe\n"
     ]
    },
    {
     "name": "stderr",
     "output_type": "stream",
     "text": [
      "103it [00:11, 17.18it/s]"
     ]
    },
    {
     "name": "stdout",
     "output_type": "stream",
     "text": [
      "100 007010568336 004401166793\n",
      "A comunicação da nota 004401166793 já existe\n",
      "101 007013456237 004401173487\n",
      "A comunicação da nota 004401173487 já existe\n",
      "102 007017935229 004401142385\n",
      "A comunicação da nota 004401142385 já existe\n",
      "103 007015197808 004401142387\n",
      "A comunicação da nota 004401142387 já existe\n"
     ]
    },
    {
     "name": "stderr",
     "output_type": "stream",
     "text": [
      "105it [00:11, 16.43it/s]"
     ]
    },
    {
     "name": "stdout",
     "output_type": "stream",
     "text": [
      "104 007009134160 004401151572\n",
      "A comunicação da nota 004401151572 já existe\n",
      "105 000853532940 004401147638\n",
      "A comunicação da nota 004401147638 já existe\n",
      "106 007019297890 004401145059\n",
      "A comunicação da nota 004401145059 já existe\n"
     ]
    },
    {
     "name": "stderr",
     "output_type": "stream",
     "text": [
      "109it [00:11, 15.94it/s]"
     ]
    },
    {
     "name": "stdout",
     "output_type": "stream",
     "text": [
      "107 007003181264 004401166101\n",
      "A comunicação da nota 004401166101 já existe\n",
      "108 007013251376 004401147923\n",
      "A comunicação da nota 004401147923 já existe\n",
      "109 007000934202 004401147875\n",
      "A comunicação da nota 004401147875 já existe\n",
      "110 007009486768 004401149585\n",
      "A comunicação da nota 004401149585 já existe\n"
     ]
    },
    {
     "name": "stderr",
     "output_type": "stream",
     "text": [
      "113it [00:11, 17.07it/s]"
     ]
    },
    {
     "name": "stdout",
     "output_type": "stream",
     "text": [
      "111 000000186015 004401174172\n",
      "A comunicação da nota 004401174172 já existe\n",
      "112 007015600017 004401155968\n",
      "A comunicação da nota 004401155968 já existe\n",
      "113 000856448916 004401182767\n",
      "A comunicação da nota 004401182767 já existe\n",
      "114 007019400187 004401141137\n",
      "A comunicação da nota 004401141137 já existe\n"
     ]
    },
    {
     "name": "stderr",
     "output_type": "stream",
     "text": [
      "117it [00:11, 17.92it/s]"
     ]
    },
    {
     "name": "stdout",
     "output_type": "stream",
     "text": [
      "115 000854335014 004401160368\n",
      "A comunicação da nota 004401160368 já existe\n",
      "116 007017364531 004401146526\n",
      "A comunicação da nota 004401146526 já existe\n",
      "117 007004170312 004401164675\n",
      "A comunicação da nota 004401164675 já existe\n",
      "118 000435718019 004401157584\n",
      "A comunicação da nota 004401157584 já existe\n"
     ]
    },
    {
     "name": "stderr",
     "output_type": "stream",
     "text": [
      "121it [00:12, 16.38it/s]"
     ]
    },
    {
     "name": "stdout",
     "output_type": "stream",
     "text": [
      "119 000000147010 004401168927\n",
      "A comunicação da nota 004401168927 já existe\n",
      "120 007017370140 004401155957\n",
      "A comunicação da nota 004401155957 já existe\n",
      "121 007007509027 004401146564\n",
      "A comunicação da nota 004401146564 já existe\n"
     ]
    },
    {
     "name": "stderr",
     "output_type": "stream",
     "text": [
      "123it [00:12, 14.46it/s]"
     ]
    },
    {
     "name": "stdout",
     "output_type": "stream",
     "text": [
      "122 007016969782 004401138879\n",
      "A comunicação da nota 004401138879 já existe\n",
      "123 007018848141 004401135128\n",
      "A comunicação da nota 004401135128 já existe\n",
      "124 007014824698 004401135148\n",
      "A comunicação da nota 004401135148 já existe\n"
     ]
    },
    {
     "name": "stderr",
     "output_type": "stream",
     "text": [
      "127it [00:12, 15.52it/s]"
     ]
    },
    {
     "name": "stdout",
     "output_type": "stream",
     "text": [
      "125 007013746642 004401182738\n",
      "A comunicação da nota 004401182738 já existe\n",
      "126 007012600482 004401161069\n",
      "A comunicação da nota 004401161069 já existe\n",
      "127 007001899869 004401171222\n",
      "A comunicação da nota 004401171222 já existe\n",
      "128 007012183474 004401161202\n",
      "A comunicação da nota 004401161202 já existe\n"
     ]
    },
    {
     "name": "stderr",
     "output_type": "stream",
     "text": [
      "131it [00:12, 16.34it/s]"
     ]
    },
    {
     "name": "stdout",
     "output_type": "stream",
     "text": [
      "129 007004932964 004401157588\n",
      "A comunicação da nota 004401157588 já existe\n",
      "130 007009823357 004401169707\n",
      "A comunicação da nota 004401169707 já existe\n",
      "131 007013078925 004401141106\n",
      "A comunicação da nota 004401141106 já existe\n",
      "132 007011349140 004401141105\n",
      "A comunicação da nota 004401141105 já existe\n"
     ]
    },
    {
     "name": "stderr",
     "output_type": "stream",
     "text": [
      "135it [00:13, 16.71it/s]"
     ]
    },
    {
     "name": "stdout",
     "output_type": "stream",
     "text": [
      "133 007016429338 004401180063\n",
      "A comunicação da nota 004401180063 já existe\n",
      "134 000852521007 004401179717\n",
      "A comunicação da nota 004401179717 já existe\n",
      "135 000857118766 004401161201\n",
      "A comunicação da nota 004401161201 já existe\n",
      "136 007010791388 004401175000\n",
      "A comunicação da nota 004401175000 já existe\n"
     ]
    },
    {
     "name": "stderr",
     "output_type": "stream",
     "text": [
      "139it [00:13, 16.50it/s]"
     ]
    },
    {
     "name": "stdout",
     "output_type": "stream",
     "text": [
      "137 000850560790 004401171648\n",
      "A comunicação da nota 004401171648 já existe\n",
      "138 000857143280 004401134450\n",
      "A comunicação da nota 004401134450 já existe\n",
      "139 007000502086 004401170788\n",
      "A comunicação da nota 004401170788 já existe\n",
      "140 007002707017 004401157686\n"
     ]
    },
    {
     "name": "stderr",
     "output_type": "stream",
     "text": [
      "143it [00:13, 17.27it/s]"
     ]
    },
    {
     "name": "stdout",
     "output_type": "stream",
     "text": [
      "A comunicação da nota 004401157686 já existe\n",
      "141 007011347236 004401174199\n",
      "A comunicação da nota 004401174199 já existe\n",
      "142 007011659173 004401135033\n",
      "A comunicação da nota 004401135033 já existe\n",
      "143 000850506140 004401162879\n",
      "A comunicação da nota 004401162879 já existe\n"
     ]
    },
    {
     "name": "stderr",
     "output_type": "stream",
     "text": [
      "147it [00:13, 17.58it/s]"
     ]
    },
    {
     "name": "stdout",
     "output_type": "stream",
     "text": [
      "144 007008566296 004401174173\n",
      "A comunicação da nota 004401174173 já existe\n",
      "145 007019105410 004401165421\n",
      "A comunicação da nota 004401165421 já existe\n",
      "146 007010890637 004401135187\n",
      "A comunicação da nota 004401135187 já existe\n",
      "147 007005257756 004401174949\n",
      "A comunicação da nota 004401174949 já existe\n"
     ]
    },
    {
     "name": "stderr",
     "output_type": "stream",
     "text": [
      "149it [00:13, 14.97it/s]"
     ]
    },
    {
     "name": "stdout",
     "output_type": "stream",
     "text": [
      "148 000850742030 004401113498\n",
      "A comunicação da nota 004401113498 já existe\n",
      "149 007003202784 004401157517\n",
      "A comunicação da nota 004401157517 já existe\n",
      "150 007013991388 004401179759\n",
      "A comunicação da nota 004401179759 já existe\n"
     ]
    },
    {
     "name": "stderr",
     "output_type": "stream",
     "text": [
      "153it [00:14, 15.38it/s]"
     ]
    },
    {
     "name": "stdout",
     "output_type": "stream",
     "text": [
      "151 000850604258 004401148396\n",
      "A comunicação da nota 004401148396 já existe\n",
      "152 000090086014 004401181068\n",
      "A comunicação da nota 004401181068 já existe\n",
      "153 000796944013 004401157582\n",
      "A comunicação da nota 004401157582 já existe\n",
      "154 007004577005 004401165390\n",
      "A comunicação da nota 004401165390 já existe\n"
     ]
    },
    {
     "name": "stderr",
     "output_type": "stream",
     "text": [
      "157it [00:14, 16.09it/s]"
     ]
    },
    {
     "name": "stdout",
     "output_type": "stream",
     "text": [
      "155 007005232621 004401182678\n",
      "A comunicação da nota 004401182678 já existe\n",
      "156 000854976974 004401173377\n",
      "A comunicação da nota 004401173377 já existe\n",
      "157 007017235324 004401182616\n",
      "A comunicação da nota 004401182616 já existe\n",
      "158"
     ]
    },
    {
     "name": "stderr",
     "output_type": "stream",
     "text": [
      "161it [00:14, 16.53it/s]"
     ]
    },
    {
     "name": "stdout",
     "output_type": "stream",
     "text": [
      " 007006735929 004401181978\n",
      "A comunicação da nota 004401181978 já existe\n",
      "159 007012758728 004401184890\n",
      "A comunicação da nota 004401184890 já existe\n",
      "160 007012761451 004401179769\n",
      "A comunicação da nota 004401179769 já existe\n",
      "161 007009308266 004401184898\n",
      "A comunicação da nota 004401184898 já existe\n"
     ]
    },
    {
     "name": "stderr",
     "output_type": "stream",
     "text": [
      "163it [00:14, 15.90it/s]"
     ]
    },
    {
     "name": "stdout",
     "output_type": "stream",
     "text": [
      "162 007003250010 004401091828\n",
      "A comunicação da nota 004401091828 já existe\n",
      "163 007015874516 004401091827\n",
      "A comunicação da nota 004401091827 já existe\n",
      "164 007001834457 004401091811\n",
      "A comunicação da nota 004401091811 já existe\n"
     ]
    },
    {
     "name": "stderr",
     "output_type": "stream",
     "text": [
      "167it [00:15, 15.99it/s]"
     ]
    },
    {
     "name": "stdout",
     "output_type": "stream",
     "text": [
      "165 007014250381 004401181607\n",
      "A comunicação da nota 004401181607 já existe\n",
      "166 007001543240 004401165057\n",
      "A comunicação da nota 004401165057 já existe\n",
      "167 000052163013 004401178590\n",
      "A comunicação da nota 004401178590 já existe\n",
      "168"
     ]
    },
    {
     "name": "stderr",
     "output_type": "stream",
     "text": [
      "169it [00:15, 15.62it/s]"
     ]
    },
    {
     "name": "stdout",
     "output_type": "stream",
     "text": [
      " 000010269016 004401182777\n",
      "A comunicação da nota 004401182777 já existe\n",
      "169 007008239317 004401179726\n",
      "A comunicação da nota 004401179726 já existe\n",
      "170 007014484501 004401181590\n",
      "A comunicação da nota 004401181590 já existe\n"
     ]
    },
    {
     "name": "stderr",
     "output_type": "stream",
     "text": [
      "173it [00:15, 15.33it/s]"
     ]
    },
    {
     "name": "stdout",
     "output_type": "stream",
     "text": [
      "171 007015455122 004401182727\n",
      "A comunicação da nota 004401182727 já existe\n",
      "172 007013168940 004401168531\n",
      "A comunicação da nota 004401168531 já existe\n",
      "173 000856527190 004401165038\n",
      "A comunicação da nota 004401165038 já existe\n"
     ]
    },
    {
     "name": "stderr",
     "output_type": "stream",
     "text": [
      "177it [00:15, 15.87it/s]"
     ]
    },
    {
     "name": "stdout",
     "output_type": "stream",
     "text": [
      "174 007012778338 004401180096\n",
      "A comunicação da nota 004401180096 já existe\n",
      "175 007015389898 004401169670\n",
      "A comunicação da nota 004401169670 já existe\n",
      "176 007011510390 004401180691\n",
      "A comunicação da nota 004401180691 já existe\n",
      "177 000001027018 004401156018\n",
      "A comunicação da nota 004401156018 já existe\n"
     ]
    },
    {
     "name": "stderr",
     "output_type": "stream",
     "text": [
      "181it [00:15, 16.54it/s]"
     ]
    },
    {
     "name": "stdout",
     "output_type": "stream",
     "text": [
      "178 007013772325 004401182736\n",
      "A comunicação da nota 004401182736 já existe\n",
      "179 007015676935 004401141140\n",
      "A comunicação da nota 004401141140 já existe\n",
      "180 007001542782 004401165059\n",
      "A comunicação da nota 004401165059 já existe\n",
      "181 007011789808 004401182764\n",
      "A comunicação da nota 004401182764 já existe\n"
     ]
    },
    {
     "name": "stderr",
     "output_type": "stream",
     "text": [
      "185it [00:16, 14.55it/s]"
     ]
    },
    {
     "name": "stdout",
     "output_type": "stream",
     "text": [
      "182 007011880350 004401184073\n",
      "A comunicação da nota 004401184073 já existe\n",
      "183 000853974102 004401180711\n",
      "A comunicação da nota 004401180711 já existe\n",
      "184 007015361896 004401182769\n",
      "A comunicação da nota 004401182769 já existe\n"
     ]
    },
    {
     "name": "stderr",
     "output_type": "stream",
     "text": [
      "187it [00:16, 14.83it/s]"
     ]
    },
    {
     "name": "stdout",
     "output_type": "stream",
     "text": [
      "185 007014314665 004401180692\n",
      "A comunicação da nota 004401180692 já existe\n",
      "186 007006269820 004401180111\n",
      "A comunicação da nota 004401180111 já existe\n",
      "187 007013427520 004401182763\n",
      "A comunicação da nota 004401182763 já existe\n"
     ]
    },
    {
     "name": "stderr",
     "output_type": "stream",
     "text": [
      "189it [00:16, 14.63it/s]"
     ]
    },
    {
     "name": "stdout",
     "output_type": "stream",
     "text": [
      "188 007013380621 004401184071\n",
      "A comunicação da nota 004401184071 já existe\n",
      "189 000488552015 004401182766\n",
      "A comunicação da nota 004401182766 já existe\n",
      "190 007011413751 004401182809\n",
      "A comunicação da nota 004401182809 já existe\n"
     ]
    },
    {
     "name": "stderr",
     "output_type": "stream",
     "text": [
      "193it [00:16, 15.62it/s]"
     ]
    },
    {
     "name": "stdout",
     "output_type": "stream",
     "text": [
      "191 007011709235 004401180717\n",
      "A comunicação da nota 004401180717 já existe\n",
      "192 000512951015 004401179067\n",
      "A comunicação da nota 004401179067 já existe\n",
      "193 007012379956 004401147936\n"
     ]
    },
    {
     "name": "stderr",
     "output_type": "stream",
     "text": [
      "193it [00:36, 15.62it/s]"
     ]
    },
    {
     "name": "stdout",
     "output_type": "stream",
     "text": [
      "Achou o campo Data de Nascimento\n",
      "Sem sucesso!\n",
      "Acabou de procurar o cliente\n",
      "Acabou os processos\n",
      "Avançou\n",
      "Clicou em pré-visualização\n",
      "Clicou em voltar\n"
     ]
    },
    {
     "name": "stderr",
     "output_type": "stream",
     "text": [
      "193it [04:12,  1.31s/it]\n"
     ]
    },
    {
     "ename": "KeyboardInterrupt",
     "evalue": "",
     "output_type": "error",
     "traceback": [
      "\u001b[1;31m---------------------------------------------------------------------------\u001b[0m",
      "\u001b[1;31mKeyboardInterrupt\u001b[0m                         Traceback (most recent call last)",
      "\u001b[1;32m<ipython-input-15-840556a3ddab>\u001b[0m in \u001b[0;36m<module>\u001b[1;34m\u001b[0m\n\u001b[0;32m    332\u001b[0m                 \u001b[0mprint\u001b[0m\u001b[1;33m(\u001b[0m\u001b[1;34m'Clicou em voltar'\u001b[0m\u001b[1;33m)\u001b[0m\u001b[1;33m\u001b[0m\u001b[0m\n\u001b[0;32m    333\u001b[0m                 \u001b[1;32mwhile\u001b[0m \u001b[1;32mTrue\u001b[0m\u001b[1;33m:\u001b[0m\u001b[1;33m\u001b[0m\u001b[0m\n\u001b[1;32m--> 334\u001b[1;33m                     \u001b[1;32mif\u001b[0m\u001b[1;33m(\u001b[0m\u001b[0mie\u001b[0m\u001b[1;33m.\u001b[0m\u001b[0mchild_window\u001b[0m\u001b[1;33m(\u001b[0m\u001b[0mtitle\u001b[0m\u001b[1;33m=\u001b[0m\u001b[1;34m\" Voltar \"\u001b[0m\u001b[1;33m)\u001b[0m\u001b[1;33m.\u001b[0m\u001b[0mexists\u001b[0m\u001b[1;33m(\u001b[0m\u001b[1;33m)\u001b[0m\u001b[1;33m)\u001b[0m\u001b[1;33m:\u001b[0m\u001b[1;33m\u001b[0m\u001b[0m\n\u001b[0m\u001b[0;32m    335\u001b[0m                         \u001b[0mtime\u001b[0m\u001b[1;33m.\u001b[0m\u001b[0msleep\u001b[0m\u001b[1;33m(\u001b[0m\u001b[1;36m1\u001b[0m\u001b[1;33m)\u001b[0m\u001b[1;33m\u001b[0m\u001b[0m\n\u001b[0;32m    336\u001b[0m                     \u001b[1;32melse\u001b[0m\u001b[1;33m:\u001b[0m\u001b[1;33m\u001b[0m\u001b[0m\n",
      "\u001b[1;32m~\\AppData\\Local\\Continuum\\miniconda3\\lib\\site-packages\\pywinauto\\application.py\u001b[0m in \u001b[0;36mexists\u001b[1;34m(self, timeout, retry_interval)\u001b[0m\n\u001b[0;32m    425\u001b[0m \u001b[1;33m\u001b[0m\u001b[0m\n\u001b[0;32m    426\u001b[0m         \u001b[1;32mtry\u001b[0m\u001b[1;33m:\u001b[0m\u001b[1;33m\u001b[0m\u001b[0m\n\u001b[1;32m--> 427\u001b[1;33m             \u001b[0mself\u001b[0m\u001b[1;33m.\u001b[0m\u001b[0m__resolve_control\u001b[0m\u001b[1;33m(\u001b[0m\u001b[0mexists_criteria\u001b[0m\u001b[1;33m,\u001b[0m \u001b[0mtimeout\u001b[0m\u001b[1;33m,\u001b[0m \u001b[0mretry_interval\u001b[0m\u001b[1;33m)\u001b[0m\u001b[1;33m\u001b[0m\u001b[0m\n\u001b[0m\u001b[0;32m    428\u001b[0m \u001b[1;33m\u001b[0m\u001b[0m\n\u001b[0;32m    429\u001b[0m             \u001b[1;32mreturn\u001b[0m \u001b[1;32mTrue\u001b[0m\u001b[1;33m\u001b[0m\u001b[0m\n",
      "\u001b[1;32m~\\AppData\\Local\\Continuum\\miniconda3\\lib\\site-packages\\pywinauto\\application.py\u001b[0m in \u001b[0;36m__resolve_control\u001b[1;34m(self, criteria, timeout, retry_interval)\u001b[0m\n\u001b[0;32m    256\u001b[0m                  \u001b[0mcontrols\u001b[0m\u001b[1;33m.\u001b[0m\u001b[0mInvalidWindowHandle\u001b[0m\u001b[1;33m,\u001b[0m\u001b[1;33m\u001b[0m\u001b[0m\n\u001b[0;32m    257\u001b[0m                  controls.InvalidElement),\n\u001b[1;32m--> 258\u001b[1;33m                 criteria)\n\u001b[0m\u001b[0;32m    259\u001b[0m \u001b[1;33m\u001b[0m\u001b[0m\n\u001b[0;32m    260\u001b[0m         \u001b[1;32mexcept\u001b[0m \u001b[0mTimeoutError\u001b[0m \u001b[1;32mas\u001b[0m \u001b[0me\u001b[0m\u001b[1;33m:\u001b[0m\u001b[1;33m\u001b[0m\u001b[0m\n",
      "\u001b[1;32m~\\AppData\\Local\\Continuum\\miniconda3\\lib\\site-packages\\pywinauto\\timings.py\u001b[0m in \u001b[0;36mwait_until_passes\u001b[1;34m(timeout, retry_interval, func, exceptions, *args, **kwargs)\u001b[0m\n\u001b[0;32m    434\u001b[0m         \u001b[1;32mtry\u001b[0m\u001b[1;33m:\u001b[0m\u001b[1;33m\u001b[0m\u001b[0m\n\u001b[0;32m    435\u001b[0m             \u001b[1;31m# Call the function with any arguments\u001b[0m\u001b[1;33m\u001b[0m\u001b[1;33m\u001b[0m\u001b[0m\n\u001b[1;32m--> 436\u001b[1;33m             \u001b[0mfunc_val\u001b[0m \u001b[1;33m=\u001b[0m \u001b[0mfunc\u001b[0m\u001b[1;33m(\u001b[0m\u001b[1;33m*\u001b[0m\u001b[0margs\u001b[0m\u001b[1;33m,\u001b[0m \u001b[1;33m**\u001b[0m\u001b[0mkwargs\u001b[0m\u001b[1;33m)\u001b[0m\u001b[1;33m\u001b[0m\u001b[0m\n\u001b[0m\u001b[0;32m    437\u001b[0m \u001b[1;33m\u001b[0m\u001b[0m\n\u001b[0;32m    438\u001b[0m             \u001b[1;31m# if no exception is raised then we are finished\u001b[0m\u001b[1;33m\u001b[0m\u001b[1;33m\u001b[0m\u001b[0m\n",
      "\u001b[1;32m~\\AppData\\Local\\Continuum\\miniconda3\\lib\\site-packages\\pywinauto\\application.py\u001b[0m in \u001b[0;36m__get_ctrl\u001b[1;34m(self, criteria_)\u001b[0m\n\u001b[0;32m    220\u001b[0m                 \u001b[1;32mif\u001b[0m \u001b[1;34m'backend'\u001b[0m \u001b[1;32mnot\u001b[0m \u001b[1;32min\u001b[0m \u001b[0mctrl_criteria\u001b[0m\u001b[1;33m:\u001b[0m\u001b[1;33m\u001b[0m\u001b[0m\n\u001b[0;32m    221\u001b[0m                     \u001b[0mctrl_criteria\u001b[0m\u001b[1;33m[\u001b[0m\u001b[1;34m'backend'\u001b[0m\u001b[1;33m]\u001b[0m \u001b[1;33m=\u001b[0m \u001b[0mself\u001b[0m\u001b[1;33m.\u001b[0m\u001b[0mbackend\u001b[0m\u001b[1;33m.\u001b[0m\u001b[0mname\u001b[0m\u001b[1;33m\u001b[0m\u001b[0m\n\u001b[1;32m--> 222\u001b[1;33m                 \u001b[0mctrl\u001b[0m \u001b[1;33m=\u001b[0m \u001b[0mself\u001b[0m\u001b[1;33m.\u001b[0m\u001b[0mbackend\u001b[0m\u001b[1;33m.\u001b[0m\u001b[0mgeneric_wrapper_class\u001b[0m\u001b[1;33m(\u001b[0m\u001b[0mfindwindows\u001b[0m\u001b[1;33m.\u001b[0m\u001b[0mfind_element\u001b[0m\u001b[1;33m(\u001b[0m\u001b[1;33m**\u001b[0m\u001b[0mctrl_criteria\u001b[0m\u001b[1;33m)\u001b[0m\u001b[1;33m)\u001b[0m\u001b[1;33m\u001b[0m\u001b[0m\n\u001b[0m\u001b[0;32m    223\u001b[0m                 \u001b[0mprevious_parent\u001b[0m \u001b[1;33m=\u001b[0m \u001b[0mctrl\u001b[0m\u001b[1;33m.\u001b[0m\u001b[0melement_info\u001b[0m\u001b[1;33m\u001b[0m\u001b[0m\n\u001b[0;32m    224\u001b[0m                 \u001b[0mctrls\u001b[0m\u001b[1;33m.\u001b[0m\u001b[0mappend\u001b[0m\u001b[1;33m(\u001b[0m\u001b[0mctrl\u001b[0m\u001b[1;33m)\u001b[0m\u001b[1;33m\u001b[0m\u001b[0m\n",
      "\u001b[1;32m~\\AppData\\Local\\Continuum\\miniconda3\\lib\\site-packages\\pywinauto\\findwindows.py\u001b[0m in \u001b[0;36mfind_element\u001b[1;34m(**kwargs)\u001b[0m\n\u001b[0;32m     82\u001b[0m     \u001b[0mso\u001b[0m \u001b[0mplease\u001b[0m \u001b[0msee\u001b[0m \u001b[1;33m:\u001b[0m\u001b[0mpy\u001b[0m\u001b[1;33m:\u001b[0m\u001b[0mfunc\u001b[0m\u001b[1;33m:\u001b[0m\u001b[0;31m`\u001b[0m\u001b[0mfind_elements\u001b[0m\u001b[0;31m`\u001b[0m \u001b[1;32mfor\u001b[0m \u001b[0mthe\u001b[0m \u001b[0mfull\u001b[0m \u001b[0mparameters\u001b[0m \u001b[0mdescription\u001b[0m\u001b[1;33m.\u001b[0m\u001b[1;33m\u001b[0m\u001b[0m\n\u001b[0;32m     83\u001b[0m     \"\"\"\n\u001b[1;32m---> 84\u001b[1;33m     \u001b[0melements\u001b[0m \u001b[1;33m=\u001b[0m \u001b[0mfind_elements\u001b[0m\u001b[1;33m(\u001b[0m\u001b[1;33m**\u001b[0m\u001b[0mkwargs\u001b[0m\u001b[1;33m)\u001b[0m\u001b[1;33m\u001b[0m\u001b[0m\n\u001b[0m\u001b[0;32m     85\u001b[0m \u001b[1;33m\u001b[0m\u001b[0m\n\u001b[0;32m     86\u001b[0m     \u001b[1;32mif\u001b[0m \u001b[1;32mnot\u001b[0m \u001b[0melements\u001b[0m\u001b[1;33m:\u001b[0m\u001b[1;33m\u001b[0m\u001b[0m\n",
      "\u001b[1;32m~\\AppData\\Local\\Continuum\\miniconda3\\lib\\site-packages\\pywinauto\\findwindows.py\u001b[0m in \u001b[0;36mfind_elements\u001b[1;34m(class_name, class_name_re, parent, process, title, title_re, top_level_only, visible_only, enabled_only, best_match, handle, ctrl_index, found_index, predicate_func, active_only, control_id, control_type, auto_id, framework_id, backend, depth)\u001b[0m\n\u001b[0;32m    271\u001b[0m         \u001b[1;32mif\u001b[0m \u001b[0melements\u001b[0m\u001b[1;33m:\u001b[0m\u001b[1;33m\u001b[0m\u001b[0m\n\u001b[0;32m    272\u001b[0m             \u001b[0melements\u001b[0m\u001b[1;33m[\u001b[0m\u001b[1;36m0\u001b[0m\u001b[1;33m]\u001b[0m\u001b[1;33m.\u001b[0m\u001b[0mrich_text\u001b[0m\u001b[1;33m\u001b[0m\u001b[0m\n\u001b[1;32m--> 273\u001b[1;33m         \u001b[0melements\u001b[0m \u001b[1;33m=\u001b[0m \u001b[1;33m[\u001b[0m\u001b[0melem\u001b[0m \u001b[1;32mfor\u001b[0m \u001b[0melem\u001b[0m \u001b[1;32min\u001b[0m \u001b[0melements\u001b[0m \u001b[1;32mif\u001b[0m \u001b[0melem\u001b[0m\u001b[1;33m.\u001b[0m\u001b[0mrich_text\u001b[0m \u001b[1;33m==\u001b[0m \u001b[0mtitle\u001b[0m\u001b[1;33m]\u001b[0m\u001b[1;33m\u001b[0m\u001b[0m\n\u001b[0m\u001b[0;32m    274\u001b[0m     \u001b[1;32melif\u001b[0m \u001b[0mtitle_re\u001b[0m \u001b[1;32mis\u001b[0m \u001b[1;32mnot\u001b[0m \u001b[1;32mNone\u001b[0m\u001b[1;33m:\u001b[0m\u001b[1;33m\u001b[0m\u001b[0m\n\u001b[0;32m    275\u001b[0m         \u001b[0mtitle_regex\u001b[0m \u001b[1;33m=\u001b[0m \u001b[0mre\u001b[0m\u001b[1;33m.\u001b[0m\u001b[0mcompile\u001b[0m\u001b[1;33m(\u001b[0m\u001b[0mtitle_re\u001b[0m\u001b[1;33m)\u001b[0m\u001b[1;33m\u001b[0m\u001b[0m\n",
      "\u001b[1;32m~\\AppData\\Local\\Continuum\\miniconda3\\lib\\site-packages\\pywinauto\\findwindows.py\u001b[0m in \u001b[0;36m<listcomp>\u001b[1;34m(.0)\u001b[0m\n\u001b[0;32m    271\u001b[0m         \u001b[1;32mif\u001b[0m \u001b[0melements\u001b[0m\u001b[1;33m:\u001b[0m\u001b[1;33m\u001b[0m\u001b[0m\n\u001b[0;32m    272\u001b[0m             \u001b[0melements\u001b[0m\u001b[1;33m[\u001b[0m\u001b[1;36m0\u001b[0m\u001b[1;33m]\u001b[0m\u001b[1;33m.\u001b[0m\u001b[0mrich_text\u001b[0m\u001b[1;33m\u001b[0m\u001b[0m\n\u001b[1;32m--> 273\u001b[1;33m         \u001b[0melements\u001b[0m \u001b[1;33m=\u001b[0m \u001b[1;33m[\u001b[0m\u001b[0melem\u001b[0m \u001b[1;32mfor\u001b[0m \u001b[0melem\u001b[0m \u001b[1;32min\u001b[0m \u001b[0melements\u001b[0m \u001b[1;32mif\u001b[0m \u001b[0melem\u001b[0m\u001b[1;33m.\u001b[0m\u001b[0mrich_text\u001b[0m \u001b[1;33m==\u001b[0m \u001b[0mtitle\u001b[0m\u001b[1;33m]\u001b[0m\u001b[1;33m\u001b[0m\u001b[0m\n\u001b[0m\u001b[0;32m    274\u001b[0m     \u001b[1;32melif\u001b[0m \u001b[0mtitle_re\u001b[0m \u001b[1;32mis\u001b[0m \u001b[1;32mnot\u001b[0m \u001b[1;32mNone\u001b[0m\u001b[1;33m:\u001b[0m\u001b[1;33m\u001b[0m\u001b[0m\n\u001b[0;32m    275\u001b[0m         \u001b[0mtitle_regex\u001b[0m \u001b[1;33m=\u001b[0m \u001b[0mre\u001b[0m\u001b[1;33m.\u001b[0m\u001b[0mcompile\u001b[0m\u001b[1;33m(\u001b[0m\u001b[0mtitle_re\u001b[0m\u001b[1;33m)\u001b[0m\u001b[1;33m\u001b[0m\u001b[0m\n",
      "\u001b[1;32m~\\AppData\\Local\\Continuum\\miniconda3\\lib\\site-packages\\pywinauto\\uia_element_info.py\u001b[0m in \u001b[0;36mrich_text\u001b[1;34m(self)\u001b[0m\n\u001b[0;32m    352\u001b[0m     \u001b[1;32mdef\u001b[0m \u001b[0mrich_text\u001b[0m\u001b[1;33m(\u001b[0m\u001b[0mself\u001b[0m\u001b[1;33m)\u001b[0m\u001b[1;33m:\u001b[0m\u001b[1;33m\u001b[0m\u001b[0m\n\u001b[0;32m    353\u001b[0m         \u001b[1;34m\"\"\"Return rich_text of the element\"\"\"\u001b[0m\u001b[1;33m\u001b[0m\u001b[0m\n\u001b[1;32m--> 354\u001b[1;33m         \u001b[1;32mreturn\u001b[0m \u001b[0mself\u001b[0m\u001b[1;33m.\u001b[0m\u001b[0m_get_rich_text\u001b[0m\u001b[1;33m(\u001b[0m\u001b[1;33m)\u001b[0m\u001b[1;33m\u001b[0m\u001b[0m\n\u001b[0m\u001b[0;32m    355\u001b[0m \u001b[1;33m\u001b[0m\u001b[0m\n\u001b[0;32m    356\u001b[0m     \u001b[1;32mdef\u001b[0m \u001b[0m__eq__\u001b[0m\u001b[1;33m(\u001b[0m\u001b[0mself\u001b[0m\u001b[1;33m,\u001b[0m \u001b[0mother\u001b[0m\u001b[1;33m)\u001b[0m\u001b[1;33m:\u001b[0m\u001b[1;33m\u001b[0m\u001b[0m\n",
      "\u001b[1;32m~\\AppData\\Local\\Continuum\\miniconda3\\lib\\site-packages\\pywinauto\\uia_element_info.py\u001b[0m in \u001b[0;36m_get_cached_rich_text\u001b[1;34m(self)\u001b[0m\n\u001b[0;32m    160\u001b[0m         \u001b[1;34m\"\"\"Return the cached rich_text of the element\"\"\"\u001b[0m\u001b[1;33m\u001b[0m\u001b[0m\n\u001b[0;32m    161\u001b[0m         \u001b[1;32mif\u001b[0m \u001b[0mself\u001b[0m\u001b[1;33m.\u001b[0m\u001b[0m_cached_rich_text\u001b[0m \u001b[1;32mis\u001b[0m \u001b[1;32mNone\u001b[0m\u001b[1;33m:\u001b[0m\u001b[1;33m\u001b[0m\u001b[0m\n\u001b[1;32m--> 162\u001b[1;33m             \u001b[0mself\u001b[0m\u001b[1;33m.\u001b[0m\u001b[0m_cached_rich_text\u001b[0m \u001b[1;33m=\u001b[0m \u001b[0mself\u001b[0m\u001b[1;33m.\u001b[0m\u001b[0m_get_current_rich_text\u001b[0m\u001b[1;33m(\u001b[0m\u001b[1;33m)\u001b[0m\u001b[1;33m\u001b[0m\u001b[0m\n\u001b[0m\u001b[0;32m    163\u001b[0m         \u001b[1;32mreturn\u001b[0m \u001b[0mself\u001b[0m\u001b[1;33m.\u001b[0m\u001b[0m_cached_rich_text\u001b[0m\u001b[1;33m\u001b[0m\u001b[0m\n\u001b[0;32m    164\u001b[0m \u001b[1;33m\u001b[0m\u001b[0m\n",
      "\u001b[1;32m~\\AppData\\Local\\Continuum\\miniconda3\\lib\\site-packages\\pywinauto\\uia_element_info.py\u001b[0m in \u001b[0;36m_get_current_rich_text\u001b[1;34m(self)\u001b[0m\n\u001b[0;32m    149\u001b[0m     \u001b[1;32mdef\u001b[0m \u001b[0m_get_current_rich_text\u001b[0m\u001b[1;33m(\u001b[0m\u001b[0mself\u001b[0m\u001b[1;33m)\u001b[0m\u001b[1;33m:\u001b[0m\u001b[1;33m\u001b[0m\u001b[0m\n\u001b[0;32m    150\u001b[0m         \u001b[1;34m\"\"\"Return the actual rich_text of the element\"\"\"\u001b[0m\u001b[1;33m\u001b[0m\u001b[0m\n\u001b[1;32m--> 151\u001b[1;33m         \u001b[1;32mif\u001b[0m \u001b[1;32mnot\u001b[0m \u001b[0mself\u001b[0m\u001b[1;33m.\u001b[0m\u001b[0mclass_name\u001b[0m\u001b[1;33m:\u001b[0m\u001b[1;33m\u001b[0m\u001b[0m\n\u001b[0m\u001b[0;32m    152\u001b[0m             \u001b[1;32mreturn\u001b[0m \u001b[0mself\u001b[0m\u001b[1;33m.\u001b[0m\u001b[0mname\u001b[0m\u001b[1;33m\u001b[0m\u001b[0m\n\u001b[0;32m    153\u001b[0m         \u001b[1;32mtry\u001b[0m\u001b[1;33m:\u001b[0m\u001b[1;33m\u001b[0m\u001b[0m\n",
      "\u001b[1;32m~\\AppData\\Local\\Continuum\\miniconda3\\lib\\site-packages\\pywinauto\\uia_element_info.py\u001b[0m in \u001b[0;36mclass_name\u001b[1;34m(self)\u001b[0m\n\u001b[0;32m    243\u001b[0m     \u001b[1;32mdef\u001b[0m \u001b[0mclass_name\u001b[0m\u001b[1;33m(\u001b[0m\u001b[0mself\u001b[0m\u001b[1;33m)\u001b[0m\u001b[1;33m:\u001b[0m\u001b[1;33m\u001b[0m\u001b[0m\n\u001b[0;32m    244\u001b[0m         \u001b[1;34m\"\"\"Return class name of the element\"\"\"\u001b[0m\u001b[1;33m\u001b[0m\u001b[0m\n\u001b[1;32m--> 245\u001b[1;33m         \u001b[1;32mreturn\u001b[0m \u001b[0mself\u001b[0m\u001b[1;33m.\u001b[0m\u001b[0m_get_class_name\u001b[0m\u001b[1;33m(\u001b[0m\u001b[1;33m)\u001b[0m\u001b[1;33m\u001b[0m\u001b[0m\n\u001b[0m\u001b[0;32m    246\u001b[0m \u001b[1;33m\u001b[0m\u001b[0m\n\u001b[0;32m    247\u001b[0m     \u001b[1;33m@\u001b[0m\u001b[0mproperty\u001b[0m\u001b[1;33m\u001b[0m\u001b[0m\n",
      "\u001b[1;32m~\\AppData\\Local\\Continuum\\miniconda3\\lib\\site-packages\\pywinauto\\uia_element_info.py\u001b[0m in \u001b[0;36m_get_cached_class_name\u001b[1;34m(self)\u001b[0m\n\u001b[0;32m     91\u001b[0m         \u001b[1;34m\"\"\"Return a cached class name of the element\"\"\"\u001b[0m\u001b[1;33m\u001b[0m\u001b[0m\n\u001b[0;32m     92\u001b[0m         \u001b[1;32mif\u001b[0m \u001b[0mself\u001b[0m\u001b[1;33m.\u001b[0m\u001b[0m_cached_class_name\u001b[0m \u001b[1;32mis\u001b[0m \u001b[1;32mNone\u001b[0m\u001b[1;33m:\u001b[0m\u001b[1;33m\u001b[0m\u001b[0m\n\u001b[1;32m---> 93\u001b[1;33m             \u001b[0mself\u001b[0m\u001b[1;33m.\u001b[0m\u001b[0m_cached_class_name\u001b[0m \u001b[1;33m=\u001b[0m \u001b[0mself\u001b[0m\u001b[1;33m.\u001b[0m\u001b[0m_get_current_class_name\u001b[0m\u001b[1;33m(\u001b[0m\u001b[1;33m)\u001b[0m\u001b[1;33m\u001b[0m\u001b[0m\n\u001b[0m\u001b[0;32m     94\u001b[0m         \u001b[1;32mreturn\u001b[0m \u001b[0mself\u001b[0m\u001b[1;33m.\u001b[0m\u001b[0m_cached_class_name\u001b[0m\u001b[1;33m\u001b[0m\u001b[0m\n\u001b[0;32m     95\u001b[0m \u001b[1;33m\u001b[0m\u001b[0m\n",
      "\u001b[1;32m~\\AppData\\Local\\Continuum\\miniconda3\\lib\\site-packages\\pywinauto\\uia_element_info.py\u001b[0m in \u001b[0;36m_get_current_class_name\u001b[1;34m(self)\u001b[0m\n\u001b[0;32m     83\u001b[0m         \u001b[1;34m\"\"\"Return an actual class name of the element\"\"\"\u001b[0m\u001b[1;33m\u001b[0m\u001b[0m\n\u001b[0;32m     84\u001b[0m         \u001b[1;32mtry\u001b[0m\u001b[1;33m:\u001b[0m\u001b[1;33m\u001b[0m\u001b[0m\n\u001b[1;32m---> 85\u001b[1;33m             \u001b[0mcn\u001b[0m \u001b[1;33m=\u001b[0m \u001b[0mself\u001b[0m\u001b[1;33m.\u001b[0m\u001b[0m_element\u001b[0m\u001b[1;33m.\u001b[0m\u001b[0mCurrentClassName\u001b[0m\u001b[1;33m\u001b[0m\u001b[0m\n\u001b[0m\u001b[0;32m     86\u001b[0m             \u001b[1;32mreturn\u001b[0m \u001b[0mtext_type\u001b[0m\u001b[1;33m(\u001b[0m\u001b[1;34m''\u001b[0m\u001b[1;33m)\u001b[0m \u001b[1;32mif\u001b[0m \u001b[0mcn\u001b[0m \u001b[1;32mis\u001b[0m \u001b[1;32mNone\u001b[0m \u001b[1;32melse\u001b[0m \u001b[0mcn\u001b[0m\u001b[1;33m\u001b[0m\u001b[0m\n\u001b[0;32m     87\u001b[0m         \u001b[1;32mexcept\u001b[0m \u001b[0mCOMError\u001b[0m\u001b[1;33m:\u001b[0m\u001b[1;33m\u001b[0m\u001b[0m\n",
      "\u001b[1;32m~\\AppData\\Local\\Continuum\\miniconda3\\lib\\site-packages\\comtypes\\__init__.py\u001b[0m in \u001b[0;36m__ctypes_from_outparam__\u001b[1;34m(self)\u001b[0m\n\u001b[0;32m   1038\u001b[0m         \u001b[1;32mreturn\u001b[0m \u001b[1;34m\"%s(%r)\"\u001b[0m \u001b[1;33m%\u001b[0m \u001b[1;33m(\u001b[0m\u001b[0mself\u001b[0m\u001b[1;33m.\u001b[0m\u001b[0m__class__\u001b[0m\u001b[1;33m.\u001b[0m\u001b[0m__name__\u001b[0m\u001b[1;33m,\u001b[0m \u001b[0mself\u001b[0m\u001b[1;33m.\u001b[0m\u001b[0mvalue\u001b[0m\u001b[1;33m)\u001b[0m\u001b[1;33m\u001b[0m\u001b[0m\n\u001b[0;32m   1039\u001b[0m \u001b[1;33m\u001b[0m\u001b[0m\n\u001b[1;32m-> 1040\u001b[1;33m     \u001b[1;32mdef\u001b[0m \u001b[0m__ctypes_from_outparam__\u001b[0m\u001b[1;33m(\u001b[0m\u001b[0mself\u001b[0m\u001b[1;33m)\u001b[0m\u001b[1;33m:\u001b[0m\u001b[1;33m\u001b[0m\u001b[0m\n\u001b[0m\u001b[0;32m   1041\u001b[0m         \u001b[0mself\u001b[0m\u001b[1;33m.\u001b[0m\u001b[0m_needsfree\u001b[0m \u001b[1;33m=\u001b[0m \u001b[1;32mTrue\u001b[0m\u001b[1;33m\u001b[0m\u001b[0m\n\u001b[0;32m   1042\u001b[0m         \u001b[1;32mreturn\u001b[0m \u001b[0mself\u001b[0m\u001b[1;33m.\u001b[0m\u001b[0mvalue\u001b[0m\u001b[1;33m\u001b[0m\u001b[0m\n",
      "\u001b[1;31mKeyboardInterrupt\u001b[0m: "
     ]
    }
   ],
   "source": [
    "# Garantir encerramento de processos SAP e Internet Explorer\n",
    "os.system(\"taskkill /f /im saplogon.exe\")\n",
    "os.system(\"taskkill /f /im iexplore.exe\")\n",
    "\n",
    "# wb = openpyxl.load_workbook(filename=planilha_rodando)\n",
    "# ws = wb.active\n",
    "# time.sleep(5)\n",
    "\n",
    "count_login=0\n",
    "if(not(Desktop(backend='uia').window(title_re=\"^Imprimir.*Via$\",found_index=0).exists())):\n",
    "\n",
    "    sap = Application(backend='uia').start(r\"C:/Program Files (x86)/SAP/FrontEnd/SAPgui/saplogon.exe\")\n",
    "    try:\n",
    "        sap = Desktop(backend='uia').SAPLogon740.child_window(title=\"05.02 - Cosern CRM Produção\", found_index=0).select()\n",
    "        print('Abriu o SAP')\n",
    "    except:\n",
    "        print(\"Erro ao abrir o SAP\")\n",
    "    sap = Desktop(backend='uia').SAPLogon740.child_window(title=\"05.02 - Cosern CRM Produção\", found_index=0).type_keys(\"{ENTER}\")\n",
    "    \n",
    "    # os.system(r\"start sapgui brnep468.neoenergia.net 01\")\n",
    "    time.sleep(1)\n",
    "    \n",
    "    sap = Desktop(backend='uia').window(class_name=\"SAP_FRONTEND_SESSION\")\n",
    "    with Timeout(60.0):\n",
    "        while(True):\n",
    "            try:\n",
    "               sap.type_keys(user_ccs+\"{TAB}\"+pw_ccs+\"{ENTER}\")\n",
    "            except:\n",
    "               print(\"Não encontrado o login no SAP\")\n",
    "            else:\n",
    "               print(\"Login no SAP realizado\")\n",
    "               break\n",
    "    while(True):\n",
    "        if(sap.child_window(auto_id=\"146\", found_index=0).exists()):\n",
    "            break\n",
    "    if(not(Desktop(backend=\"uia\").window(class_name=\"IEFrame\", visible_only=False, found_index=0).exists())):\n",
    "        app = Application(backend='uia').start(r\"C:/Program Files/Internet Explorer/iexplore.exe\")\n",
    "    ie = Desktop(backend=\"uia\").window(class_name=\"IEFrame\", visible_only=False, found_index=0) \n",
    "    \n",
    "    ierest_ct = 0\n",
    "    while(ierest_ct<1):\n",
    "        try:\n",
    "            time.sleep(0.1)\n",
    "            ie_win_seg.child_window(title=\"Ir para a sua home page\", found_index=0).click_input()\n",
    "        except:\n",
    "            print(\"Não apareceu mensagem de restaurar sessão\")\n",
    "            ierest_ct += 1\n",
    "        else:\n",
    "            time.sleep(1)  \n",
    "    ie.maximize()\n",
    "    time.sleep(5)\n",
    "\n",
    "    # OLHAR ESSA PARTE DEPOIS\n",
    "    # if(Desktop(backend=\"uia\").window(class_name=\"IEFrame\", visible_only=False, found_index=0).window(title=\" Windows Internet Explorer\").exists()):\n",
    "        # sessao_encerrada.child_window(title=\"Fechar\", found_index=0).click()\n",
    "        # time.sleep(5)\n",
    "    #if(ie.child_window(class_name=\"TabWindowClass\", title=\"Iniciar Sessão - Windows Internet Explorer\", found_index=0).exists()): #Portal dos Colaboradores do Iberdrola - Internet Explorer\n",
    "    \n",
    "    ie.child_window(class_name=\"Edit\", title=\"Endereço\", control_type=\"Edit\").set_text(r\"http://brnep485.neoenergia.net:8002/sap/bc/bsp/sap/crm_ic/default.htm\")\n",
    "    press_release('enter')\n",
    "\n",
    "    count_login=0\n",
    "    while(True):\n",
    "        count_login += 1\n",
    "        try:\n",
    "            ie_win_seg.child_window(title=\"Nome de usuário\").set_text(user_crm)\n",
    "            ie_win_seg.child_window(title=\"Senha\").set_text(pw_crm)\n",
    "            press_release('enter')\n",
    "        except:\n",
    "            print(\"Não achou o autenticador de usuário - Internet Explorer\")\n",
    "            if(count_login == 5):\n",
    "                break \n",
    "        else:\n",
    "            print(\"Achou o campo de autenticação de usuário - Internet Explorer\")\n",
    "            break\n",
    "        time.sleep(1)\n",
    "\n",
    "    lp_ct = 0\n",
    "    while(True):\n",
    "        try:\n",
    "            time.sleep(1)\n",
    "            ie.child_window(title=\"ZPERDAS\", found_index=0).click_input()\n",
    "            print(\"ZPerdas selecionado\")\n",
    "            break\n",
    "        except:\n",
    "            print(\"ZPerdas nao encontrado\")\n",
    "            if(lp_ct > 5):\n",
    "                break\n",
    "            lp_ct += 1 \n",
    "    \n",
    "    lista_cc = []\n",
    "    lista_nota = []\n",
    "    lista_status = []\n",
    "    lista_tipo = []\n",
    "    #while(True):\n",
    "\n",
    "    #lista_conta = ['007009166801', '007009166801', '007012692590', '000855294583']\n",
    "    #lista_qmnum = ['004401163436', '004401163436', '004401153808', '004401162526']\n",
    "    \n",
    "    for lin, cc in tqdm(enumerate(arquivo['ZCGACCOUN'])):  #lista_conta #arquivo.iterrows()\n",
    "        # cc = dados['ZCGACCOUN']\n",
    "        nota = arquivo['QMNUM'][lin] #lista_qmnum[lin] # dados['QMNUM']\n",
    "\n",
    "        lista_nota.append(nota)\n",
    "        lista_cc.append(cc)\n",
    "\n",
    "        print(lin, cc, nota)\n",
    "\n",
    "        novo_arq = caminho_salvar+'Docs_unidos/'+nota+'.pdf'\n",
    "        ant_caminho_arqs = caminho_salvar+'Docs_separados/'\n",
    "\n",
    "        if os.path.isfile(novo_arq):\n",
    "            print('A comunicação da nota {} já existe'.format(nota))\n",
    "            lista_status.append('OK')\n",
    "            df_final = pd.DataFrame(list(zip(lista_cc,lista_nota,lista_status,lista_tipo)), columns=['Conta Contrato','Nota','Status Download','Status Nota']) \n",
    "            df_final.to_excel(caminho_salvar+'Docs_unidos/'+nome_relatorio)\n",
    "            pass\n",
    "        else:\n",
    "            # podeunir=0\n",
    "            # while(podeunir == 0):\n",
    "                \n",
    "            ie.child_window(title=\"Interaction Center WebClient\",found_index=0).click_input()\n",
    "            interaction.child_window(title=\"Encerrar\", found_index=0).click_input()\n",
    "            \n",
    "            while(True):\n",
    "                try:\n",
    "                    ie.child_window(title=\"Data de nascimento\", control_type=\"Edit\", found_index=1).type_keys(\"{TAB}{TAB}{TAB}{TAB}\")\n",
    "                except ElementAmbiguousError:\n",
    "                    print('Ainda não achou o campo Data de Nascimento')\n",
    "                else:\n",
    "                    print('Achou o campo Data de Nascimento')\n",
    "                    break\n",
    "            ie.child_window(title=\"Data de nascimento\", control_type=\"Edit\", found_index=1).type_keys(\"{TAB}{TAB}{TAB}{TAB}\")\n",
    "            time.sleep(2)\n",
    "            keyboard.write(cc)\n",
    "\n",
    "            try:\n",
    "                ie.child_window(title=\"Procurar conta\", found_index=1).select()\n",
    "            except:\n",
    "                print(\"Sem sucesso!\")\n",
    "\n",
    "            try:\n",
    "                ie.child_window(title=\"Procurar conta\", found_index=1).type_keys(\"{ENTER}\")\n",
    "                time.sleep(3)\n",
    "            except:\n",
    "                print(\"Sem sucesso!\")\n",
    "            while(True):\n",
    "                try:\n",
    "                    ie.child_window(title=\"Procurar conta\", found_index=1).select()\n",
    "                except ElementNotFoundError:\n",
    "                    print('Acabou de procurar o cliente')\n",
    "                    break\n",
    "                except NoPatternInterfaceError:\n",
    "                    print('Acabou de procurar o cliente')\n",
    "                    break\n",
    "                else:\n",
    "                    print('Ainda está procurando')\n",
    "            \n",
    "            try:\n",
    "                ie.child_window(title=\"Consulta de Atividades\", found_index=0).click_input()\n",
    "            except:\n",
    "                print(\"Tentando consultar Atividades\")\n",
    "\n",
    "            while(True):\n",
    "                try:\n",
    "                    ie.child_window(title=\"Proc.\", found_index=0).type_keys(\"+{TAB}+{TAB}+{TAB}\")\n",
    "                except ElementNotFoundError:\n",
    "                    print('Procurando processo')\n",
    "                    press_release('enter')\n",
    "                    ie.child_window(title=\"Consulta de Atividades\", found_index=0).click_input()\n",
    "                else:\n",
    "                    print('Acabou os processos')\n",
    "                    break\n",
    "            time.sleep(4)\n",
    "            keyboard.write(nota)\n",
    "            press_release('enter')\n",
    "            time.sleep(4)\n",
    "            \n",
    "            count_comunicao = 0\n",
    "            while(True):\n",
    "                try:\n",
    "                    ie.child_window(title=\"P-Comuni. de Débitos\", found_index=0).type_keys(\"{ENTER}\")\n",
    "                    if(count_comunicao>3):\n",
    "                        ie.child_window(title=\"Proc.\", found_index=0).type_keys(\"+{TAB}+{TAB}+{TAB}\")\n",
    "                    count_comunicao += 1\n",
    "                except:\n",
    "                    print(\"Problema ao inserir a nota\")\n",
    "                else:\n",
    "                    break\n",
    "                if count_comunicao > 5:\n",
    "                    break\n",
    "\n",
    "            if(ie.child_window(title=\"Status\", control_type=\"ComboBox\").selected_text() != \"Fatura Simulada\"):\n",
    "                \n",
    "                # ie.child_window(title=\"Status\", control_type=\"ComboBox\").click_input()\n",
    "                # ie.child_window(title=\"Status\", control_type=\"ComboBox\").type_keys(\"Comunicação\")\n",
    "                # ie.child_window(title=\"Status\", control_type=\"ComboBox\").type_keys(\"{ENTER}\")\n",
    "\n",
    "                if(ie.child_window(title=\"Status\", control_type=\"ComboBox\").selected_text() == \"Concluir Proc. Imp. Cobrança\"):\n",
    "                    time.sleep(2)\n",
    "                    ie.child_window(title=\"Status\", control_type=\"ComboBox\").click_input()\n",
    "                    ie.child_window(title=\"Status\", control_type=\"ComboBox\").type_keys(\"{DOWN}\")\n",
    "                    time.sleep(2)\n",
    "                    ie.child_window(title=\"Status\", control_type=\"ComboBox\").type_keys(\"{ENTER}\")\n",
    "                    time.sleep(3)\n",
    "                    lista_tipo.append('Fatura Simulada')\n",
    "\n",
    "                if(ie.child_window(title=\"Status\", control_type=\"ComboBox\").selected_text() == \"Fatura Gerada\"):\n",
    "\n",
    "                    ie.child_window(title=\"Status\", control_type=\"ComboBox\").click_input()\n",
    "                    time.sleep(2)\n",
    "                    ie.child_window(title=\"Status\", control_type=\"ComboBox\").type_keys(\"{DOWN}\")\n",
    "                    ie.child_window(title=\"Status\", control_type=\"ComboBox\").type_keys(\"{ENTER}\")\n",
    "                    time.sleep(2)\n",
    "                    ie.child_window(title=\"Status\", control_type=\"ComboBox\").click_input()\n",
    "                    ie.child_window(title=\"Status\", control_type=\"ComboBox\").type_keys(\"{DOWN}\")\n",
    "                    ie.child_window(title=\"Status\", control_type=\"ComboBox\").type_keys(\"{ENTER}\")\n",
    "                    time.sleep(3)\n",
    "                    lista_tipo.append('Fatura gerada')\n",
    "            else:\n",
    "                lista_tipo.append('Fatura Simulada')\n",
    "\n",
    "            ie.child_window(title=\"Atividades subseqüentes e ações\",found_index = 0).type_keys(\"{TAB}{TAB}{TAB}{TAB}{TAB}\")\n",
    "            if(ie.child_window(title=\"Reimprimir Comunicação de Débitos\", found_index=0).exists()):\n",
    "                ie.child_window(title=\"Reimprimir Comunicação de Débitos\", found_index=0).type_keys(\"{TAB}{ENTER}\")\n",
    "            else:\n",
    "                ie.child_window(title=\"Atividades subseqüentes e ações\",found_index = 0).type_keys(\"{TAB}{TAB}{TAB}{TAB}{TAB}{TAB}{ENTER}\")\n",
    "            \n",
    "            while (pyautogui.pixel(223,462) != (242, 242, 242)):\n",
    "                time.sleep(1)\n",
    "\n",
    "            count_avancar = 0\n",
    "            while(True):\n",
    "                try:\n",
    "                    pyautogui.click(201,550)\n",
    "                    press_release('tab')\n",
    "                    press_release('enter')\n",
    "                    #ie.window(class_name=\"Frame Tab\").window(title=\"Interaction Center WebClient - Windows Internet Explorer\").child_window(title=\"Avançar \", found_index=0).type_keys(\"{ENTER}\")\n",
    "                    print('Avançou')\n",
    "                    break\n",
    "                except:\n",
    "                    print(\"Tentando avançar\")\n",
    "                count_avancar += 1\n",
    "                if (count_avancar > 5 ):\n",
    "                    break\n",
    "            # time.sleep(7)\n",
    "\n",
    "            while (pyautogui.pixel(224,439) != (163, 193, 228)):\n",
    "                time.sleep(1)\n",
    "                \n",
    "            count_check = 0\n",
    "            while(True):\n",
    "                try:\n",
    "                    try:\n",
    "                        ie.window(class_name=\"Frame Tab\").window(title=\"Interaction Center WebClient - Windows Internet Explorer\").child_window(title=\"Avançar\", found_index=1).type_keys(\"{ENTER}\")\n",
    "                        break\n",
    "                    except:\n",
    "                        for n in range(0,1):\n",
    "                            press_release('tab')\n",
    "                        time.sleep(1)\n",
    "                        press_release('enter')\n",
    "                        print('Deu check')\n",
    "                        break\n",
    "                except:\n",
    "                    print('Tentando dar um check')\n",
    "                count_check += 1\n",
    "                if (count_check > 5 ):\n",
    "                    break\n",
    "\n",
    "            for k in range(0,3):\n",
    "                time.sleep(5)\n",
    "                count_pre_visualizacao = 0\n",
    "                while(True):\n",
    "                    try: \n",
    "                        try:\n",
    "                            for n in range(0,20):\n",
    "                                press_release('tab')\n",
    "                            press_release('enter')\n",
    "                            print('Clicou em pré-visualização')\n",
    "                            break\n",
    "                        except:\n",
    "                            # pyautogui.hotkey('ctrl','a')\n",
    "                            # pyautogui.write('Local Printer')\n",
    "                            interaction.child_window(title=\"   Pré-visualização \").double_click_input()\n",
    "                            print('Clicou em pré-visualização')\n",
    "                            break\n",
    "                    except:\n",
    "                        print(\"Procurando Pre Visualizacao\")\n",
    "                        ie.maximize()\n",
    "                    count_pre_visualizacao += 1\n",
    "                    if (count_pre_visualizacao > 5 ):\n",
    "                        break\n",
    "\n",
    "                while pyautogui.pixel(367,463) != (183, 183, 183):\n",
    "                    time.sleep(1)\n",
    "                \n",
    "                pyautogui.click(201,550)\n",
    "                pyautogui.hotkey('ctrl','shift','s')\n",
    "                time.sleep(4)\n",
    "                # while(not(ie.window(class_name=\"#32770\", title='Salvar como').exists())):\n",
    "                #     try:\n",
    "                #         time.sleep(1)\n",
    "                #     except:\n",
    "                #         time.sleep(1)\n",
    "                #         ie.window(class_name=\"#32770\", title='Salvar como').child_window(title=r\"Endereço: D:\\Users\\ETR351113\\Downloads\", control_type=\"ToolBar\").type_keys(caminho_salvar)\n",
    "                #         break\n",
    "                \n",
    "                #### SALVAR (MANUAL) ####\n",
    "                # pyautogui.doubleClick(374,396)\n",
    "                # press_release('backspace')\n",
    "                # for n in range(0,11):\n",
    "                #     press_release('tab')\n",
    "                # press_release('backspace')\n",
    "                # pyautogui.write(nota+'('+str(k)+')')\n",
    "                # press_release('enter')\n",
    "                # time.sleep(2)\n",
    "\n",
    "                if(ie.window(class_name=\"#32770\", title='Salvar como').exists()):\n",
    "                    press_release('tab')\n",
    "                    press_release('enter')        \n",
    "                else:\n",
    "                    pass  \n",
    "                time.sleep(3)\n",
    "                try:\n",
    "                    if os.path.isfile(caminho_salvar+'smart.pdf'):\n",
    "                        os.rename(caminho_salvar+'smart.pdf',caminho_salvar+nota+'('+str(k)+').pdf')\n",
    "                except:\n",
    "                    pass\n",
    "                os.system(\"taskkill /f /im AcroRd32.exe\")\n",
    "                time.sleep(5)\n",
    "                ie.child_window(title=\" Voltar \").click_input()\n",
    "                print('Clicou em voltar')\n",
    "                while True:\n",
    "                    if(ie.child_window(title=\" Voltar \").exists()):\n",
    "                        time.sleep(1)\n",
    "                    else:\n",
    "                        break\n",
    "            \n",
    "            pdfs = [nota+'(0).pdf', nota+'(1).pdf', nota+'(2).pdf']\n",
    "            try:\n",
    "                print('Etapa de juntar os arquivos...')\n",
    "                if os.path.isdir(caminho_salvar+'Docs_unidos'):\n",
    "                    pass\n",
    "                else:\n",
    "                    os.mkdir(caminho_salvar+'Docs_unidos')\n",
    "                \n",
    "                merger = PdfFileMerger()\n",
    "                merger.append(caminho_salvar+pdfs[0], pages=(2,3))\n",
    "                merger.append(caminho_salvar+pdfs[1])\n",
    "                merger.append(caminho_salvar+pdfs[2])\n",
    "                merger.write(novo_arq)\n",
    "                merger.close\n",
    "                print('A comunicação da nota {} foi salva e mesclada'.format(nota))\n",
    "                lista_status.append('OK')\n",
    "                try:\n",
    "                    for indice in range(0,3):\n",
    "                        os.remove(caminho_salvar+pdfs[indice])\n",
    "                except Exception as e:\n",
    "                    print(e)\n",
    "                    pass\n",
    "                \n",
    "                if os.path.isdir(caminho_salvar+'Docs_separados'):\n",
    "                    pass\n",
    "                else:\n",
    "                    os.mkdir(caminho_salvar+'Docs_separados')\n",
    "\n",
    "                for pdf in pdfs:    \n",
    "                    try:\n",
    "                        shutil.move(caminho_salvar+pdf,ant_caminho_arqs+pdf)\n",
    "                    except:\n",
    "                        pass\n",
    "            except:\n",
    "                print('Deu erro')\n",
    "                lista_status.append('ERRO')\n",
    "\n",
    "            print(lista_tipo)\n",
    "            df_final = pd.DataFrame(list(zip(lista_cc,lista_nota,lista_status,lista_tipo)), columns=['Conta Contrato','Nota','Status Download','Status Nota']) \n",
    "            df_final.to_excel(caminho_salvar+'Docs_unidos/'+nome_relatorio)\n",
    "            \n",
    "        \n",
    "    "
   ]
  },
  {
   "cell_type": "markdown",
   "metadata": {},
   "source": [
    "## Ajustes "
   ]
  },
  {
   "cell_type": "code",
   "execution_count": 1,
   "metadata": {},
   "outputs": [
    {
     "name": "stdout",
     "output_type": "stream",
     "text": [
      "Insira uma lista de notas separadas por espaço para faturar: 004401077585 004401077585 004401077585\n",
      "['004401077585', '004401077585', '004401077585']\n"
     ]
    }
   ],
   "source": [
    "notas = input(\"Insira uma lista de notas separadas por espaço para faturar: \")\n",
    "list_notas  = notas.split()\n",
    "print(list_notas)"
   ]
  }
 ],
 "metadata": {
  "interpreter": {
   "hash": "75474c56b5074791152c7b2d808b74196524c58b88440d470a3182d8f1cf2ab4"
  },
  "kernelspec": {
   "display_name": "Python 3 (ipykernel)",
   "language": "python",
   "name": "python3"
  },
  "language_info": {
   "codemirror_mode": {
    "name": "ipython",
    "version": 3
   },
   "file_extension": ".py",
   "mimetype": "text/x-python",
   "name": "python",
   "nbconvert_exporter": "python",
   "pygments_lexer": "ipython3",
   "version": "3.9.7"
  }
 },
 "nbformat": 4,
 "nbformat_minor": 2
}
