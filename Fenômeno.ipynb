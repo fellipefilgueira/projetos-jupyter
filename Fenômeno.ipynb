{
 "cells": [
  {
   "cell_type": "code",
   "execution_count": 1,
   "id": "098dafa0",
   "metadata": {},
   "outputs": [
    {
     "name": "stdout",
     "output_type": "stream",
     "text": [
      "Insira uma lista de elementos separados por espaço: 00440111682 00440111689\n",
      "['00440111682', '00440111689']\n"
     ]
    }
   ],
   "source": [
    "notas = input(\"Insira uma lista de elementos separados por espaço: \")\n",
    "list_notas  = notas.split()\n",
    "print(list_notas)"
   ]
  }
 ],
 "metadata": {
  "kernelspec": {
   "display_name": "Python 3 (ipykernel)",
   "language": "python",
   "name": "python3"
  },
  "language_info": {
   "codemirror_mode": {
    "name": "ipython",
    "version": 3
   },
   "file_extension": ".py",
   "mimetype": "text/x-python",
   "name": "python",
   "nbconvert_exporter": "python",
   "pygments_lexer": "ipython3",
   "version": "3.9.7"
  }
 },
 "nbformat": 4,
 "nbformat_minor": 5
}
